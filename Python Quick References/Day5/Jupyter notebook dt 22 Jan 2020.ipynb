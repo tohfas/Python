{
 "cells": [
  {
   "cell_type": "code",
   "execution_count": 1,
   "metadata": {},
   "outputs": [
    {
     "name": "stdout",
     "output_type": "stream",
     "text": [
      "Please enter a number 2\n",
      "Exception is raised unconditionally\n"
     ]
    }
   ],
   "source": [
    "try:\n",
    "    num1=int(input(\"Please enter a number \"))\n",
    "    raise ValueError\n",
    "except ValueError:\n",
    "    print(\"Exception is raised unconditionally\")\n",
    "else:\n",
    "    print(\"success\")"
   ]
  },
  {
   "cell_type": "code",
   "execution_count": 6,
   "metadata": {},
   "outputs": [
    {
     "name": "stdout",
     "output_type": "stream",
     "text": [
      "Please enter a number 3\n",
      "although number is odd it cannot be 3\n"
     ]
    }
   ],
   "source": [
    "try:\n",
    "    num1=int(input(\"Please enter a number \"))\n",
    "    if num1 % 2 == 0:\n",
    "        raise ValueError\n",
    "    if num1 == 3:\n",
    "        raise KeyError\n",
    "except ValueError:\n",
    "    print(\"number cannot be even\")\n",
    "except KeyError:\n",
    "    print(\"although number is odd it cannot be 3\")\n",
    "else:\n",
    "    print(\"success\")"
   ]
  },
  {
   "cell_type": "code",
   "execution_count": 9,
   "metadata": {},
   "outputs": [
    {
     "name": "stdout",
     "output_type": "stream",
     "text": [
      "Please enter a number 3\n",
      "although number is odd it cannot be 3\n"
     ]
    }
   ],
   "source": [
    "import sys\n",
    "try:\n",
    "    num1=int(input(\"Please enter a number \"))\n",
    "    assert num1 % 2 != 0, \"number cannot be even\"  # when the number is odd exception will not be raised\n",
    "    assert num1 != 3, \"although number is odd it cannot be 3\" # when the number is not  3, exception will not be raised\n",
    "except AssertionError:\n",
    "    print(sys.exc_info()[1])\n",
    "else:\n",
    "    print(\"success\")"
   ]
  },
  {
   "cell_type": "code",
   "execution_count": 16,
   "metadata": {},
   "outputs": [
    {
     "name": "stdout",
     "output_type": "stream",
     "text": [
      "Please enter card number : 12 3\n",
      "Card number should not contain space\n"
     ]
    }
   ],
   "source": [
    "import sys\n",
    "try:\n",
    "    cardno = input(\"Please enter card number : \")\n",
    "    upper_count, lower_count, special_count, space_count, digit_count, sum_digit = 0,0,0,0,0,0\n",
    "    for x in cardno:\n",
    "        if x.isupper():\n",
    "            upper_count+=1\n",
    "        elif x.islower():\n",
    "            lower_count+=1\n",
    "        elif x.isdigit():\n",
    "            digit_count+=1\n",
    "            sum_digit+=int(x)\n",
    "        elif x.isspace():\n",
    "            space_count+=1\n",
    "        else:\n",
    "            special_count+=1\n",
    "    assert upper_count==0, \"Card number should not contain upper case letters\"\n",
    "    assert lower_count==0, \"Card number should not contain lower case letters\"\n",
    "    assert space_count==0, \"Card number should not contain space\"\n",
    "    assert special_count==0, \"Card number should not contain special chars\"\n",
    "    assert digit_count==4, \"Card number should be of 4 digits\"\n",
    "    assert sum_digit % 2 == 0, \"Sum of digits of card number should be even\"\n",
    "    assert cardno[0] !='0', \"card number should not start with zero\"\n",
    "except AssertionError:\n",
    "    print(sys.exc_info()[1])\n",
    "else:\n",
    "    print(\"Success -- card number is valid\")"
   ]
  },
  {
   "cell_type": "code",
   "execution_count": 17,
   "metadata": {},
   "outputs": [
    {
     "name": "stdout",
     "output_type": "stream",
     "text": [
      "<__main__.car object at 0x000001B774DADA48>\n",
      "<__main__.car object at 0x000001B774DAD8C8>\n"
     ]
    }
   ],
   "source": [
    "class car():\n",
    "    pass # pass is just completing the syntax and does nothing\n",
    "\n",
    "sedan=car()\n",
    "van=car()\n",
    "print(sedan)\n",
    "print(van)"
   ]
  },
  {
   "cell_type": "code",
   "execution_count": 18,
   "metadata": {},
   "outputs": [
    {
     "name": "stdout",
     "output_type": "stream",
     "text": [
      "i have 4 tyres\n",
      "i have 4 tyres\n"
     ]
    }
   ],
   "source": [
    "class car():\n",
    "    def tyres(self): # self is mandatory in any function defined in a class, self contains memory address of an object\n",
    "        print(\"i have 4 tyres\")\n",
    "        \n",
    "sedan=car()\n",
    "van=car()\n",
    "sedan.tyres() #this will invoke tyres function also called as method in main program\n",
    "van.tyres()"
   ]
  },
  {
   "cell_type": "code",
   "execution_count": 19,
   "metadata": {},
   "outputs": [
    {
     "name": "stdout",
     "output_type": "stream",
     "text": [
      "i have  4 tyres\n",
      "i have  6 tyres\n"
     ]
    }
   ],
   "source": [
    "class car():\n",
    "    def tyres(self, num): # self is mandatory in any function defined in a class, self contains memory address of an object\n",
    "        print(\"i have \",num,\"tyres\")\n",
    "        \n",
    "sedan=car()\n",
    "van=car()\n",
    "sedan.tyres(4) #this will invoke tyres function also called as method in main program\n",
    "van.tyres(6)"
   ]
  },
  {
   "cell_type": "code",
   "execution_count": 20,
   "metadata": {},
   "outputs": [
    {
     "name": "stdout",
     "output_type": "stream",
     "text": [
      "i have  4 tyres\n",
      "my color is  Red\n",
      "i have  6 tyres\n",
      "my color is  Blue\n"
     ]
    }
   ],
   "source": [
    "class car():\n",
    "    def tyres(self,num):\n",
    "        print(\"i have \",num,\"tyres\")\n",
    "        \n",
    "    def color(self,c):\n",
    "        print(\"my color is \", c)\n",
    "        \n",
    "sedan=car()\n",
    "van=car()\n",
    "sedan.tyres(4)\n",
    "sedan.color(\"Red\")\n",
    "van.tyres(6)\n",
    "van.color(\"Blue\")"
   ]
  },
  {
   "cell_type": "code",
   "execution_count": 21,
   "metadata": {},
   "outputs": [
    {
     "name": "stdout",
     "output_type": "stream",
     "text": [
      "i have  4 tyres\n",
      "my color is  Red and i have  4 tyres\n",
      "i have  6 tyres\n",
      "my color is  Blue and i have  6 tyres\n"
     ]
    }
   ],
   "source": [
    "class car():\n",
    "    def tyres(self,num):\n",
    "        print(\"i have \",num,\"tyres\")\n",
    "        \n",
    "    def color(self,c,num):\n",
    "        print(\"my color is \", c, \"and i have \", num, \"tyres\")\n",
    "        \n",
    "sedan=car()\n",
    "van=car()\n",
    "sedan.tyres(4)\n",
    "sedan.color(\"Red\",4)\n",
    "van.tyres(6)\n",
    "van.color(\"Blue\",6)"
   ]
  },
  {
   "cell_type": "code",
   "execution_count": 22,
   "metadata": {},
   "outputs": [
    {
     "name": "stdout",
     "output_type": "stream",
     "text": [
      "i am constructor and autoexecutable method\n",
      "i am constructor and autoexecutable method\n"
     ]
    }
   ],
   "source": [
    "# constructors are auto executable methods which get invoked automatically as soon as object is created\n",
    "class A():\n",
    "    def __init__(self): #here init is a constructor\n",
    "        print(\"i am constructor and autoexecutable method\")\n",
    "        \n",
    "obj1=A()\n",
    "obj2=A()"
   ]
  },
  {
   "cell_type": "code",
   "execution_count": 23,
   "metadata": {},
   "outputs": [
    {
     "name": "stdout",
     "output_type": "stream",
     "text": [
      "i have  4 tyres\n",
      "my color is  RED and i have  4 tyres\n",
      "i have  6 tyres\n",
      "my color is  BLUE and i have  6 tyres\n"
     ]
    }
   ],
   "source": [
    "class car():\n",
    "    def __init__(self, num, c):\n",
    "        self.num=num #self.num is an object var\n",
    "        self.c = c   #self.c is an object var\n",
    "        \n",
    "    def tyres(self):\n",
    "        print(\"i have \",self.num,\"tyres\")\n",
    "        \n",
    "    def color(self):\n",
    "        print(\"my color is \", self.c, \"and i have \", self.num, \"tyres\")\n",
    "        \n",
    "sedan=car(4, \"RED\")\n",
    "van=car(6,\"BLUE\")\n",
    "sedan.tyres()\n",
    "sedan.color()\n",
    "van.tyres()\n",
    "van.color()"
   ]
  },
  {
   "cell_type": "code",
   "execution_count": 24,
   "metadata": {},
   "outputs": [
    {
     "name": "stdout",
     "output_type": "stream",
     "text": [
      "enter the radius2\n",
      "area of the circle is 12.566370614359172\n",
      "perimeter is 12.566370614359172\n"
     ]
    }
   ],
   "source": [
    "from math import pi\n",
    "class circle():\n",
    "    def __init__(self):\n",
    "        self.radius = float(input(\"enter the radius\"))\n",
    "    def area(self):\n",
    "        print('area of the circle is',pi* self.radius**2)\n",
    "       \n",
    "    def perimeter(self):\n",
    "        return 2*pi*self.radius\n",
    "   \n",
    "r =circle()\n",
    "r.area()\n",
    "print(\"perimeter is\",r.perimeter())"
   ]
  },
  {
   "cell_type": "code",
   "execution_count": null,
   "metadata": {},
   "outputs": [],
   "source": [
    "class names():\n",
    "    def __init__(self):\n",
    "        self.list1=[]\n",
    "        name = \"\"\n",
    "        while name.upper() != 'NONE':\n",
    "            name = input(\"Enter the name\")\n",
    "            if name.upper() != 'NONE':\n",
    "                self.list1.append(name)\n",
    "        print(self.list1)\n",
    "       \n",
    "       \n",
    "    def ascii_value(self):\n",
    "        max_length = -1\n",
    "        for x in self.list1:\n",
    "            if len(x)>max_length:\n",
    "                max_length = len(x)\n",
    "                word=x\n",
    "        print('ASCII value of ', word, 'first letter is', ord(word[0]))\n",
    "        print('ASCII value of ', word, 'last letter is', ord(word[-1]))\n",
    "           \n",
    "test = names()\n",
    "test.ascii_value()"
   ]
  },
  {
   "cell_type": "code",
   "execution_count": 29,
   "metadata": {},
   "outputs": [
    {
     "name": "stdout",
     "output_type": "stream",
     "text": [
      "name is  Amit\n",
      "age is  25\n",
      "salary is  20000\n"
     ]
    }
   ],
   "source": [
    "class A():\n",
    "    def __init__(self):\n",
    "        self.name='Amit'           #public variable\n",
    "        self._age=25               #protected variable\n",
    "        self.__salary=20000        #private variable\n",
    "        \n",
    "obj=A()\n",
    "print(\"name is \", obj.name)\n",
    "print(\"age is \", obj._age)\n",
    "#print(\"salary is \", obj.__salary)\n",
    "print(\"salary is \", obj._A__salary) #if you prefix private var with _classname we can access in main"
   ]
  },
  {
   "cell_type": "code",
   "execution_count": 31,
   "metadata": {},
   "outputs": [
    {
     "name": "stdout",
     "output_type": "stream",
     "text": [
      "Please enter the course you want to enroll for : python\n",
      "course which you enrolled is  python\n",
      "Do you want to change the course y/n : y\n",
      "Please enter the new course you want update : Hadoop\n",
      "course which you enrolled is now  Hadoop\n"
     ]
    }
   ],
   "source": [
    "class batch():\n",
    "    def __init__(self):\n",
    "        self.__course = input(\"Please enter the course you want to enroll for : \")\n",
    "    \n",
    "    def get_course(self):\n",
    "        return self.__course\n",
    "    \n",
    "    def set_course(self):\n",
    "        ans=input(\"Do you want to change the course y/n : \")\n",
    "        if ans.upper()=='Y':\n",
    "            self.__course = input(\"Please enter the new course you want update : \")\n",
    "        else:\n",
    "            print(\"your course is same which you enrolled\")\n",
    "            \n",
    "obj=batch()\n",
    "print(\"course which you enrolled is \", obj.get_course())\n",
    "obj.set_course()\n",
    "print(\"course which you enrolled is now \", obj.get_course())"
   ]
  },
  {
   "cell_type": "code",
   "execution_count": 32,
   "metadata": {},
   "outputs": [
    {
     "name": "stdout",
     "output_type": "stream",
     "text": [
      "i am in base class fun\n"
     ]
    }
   ],
   "source": [
    "class base():\n",
    "    def fun(self):\n",
    "        print(\"i am in base class fun\")\n",
    "        \n",
    "class derived(base):\n",
    "    pass\n",
    "\n",
    "obj=derived()\n",
    "obj.fun()"
   ]
  },
  {
   "cell_type": "code",
   "execution_count": 33,
   "metadata": {},
   "outputs": [
    {
     "name": "stdout",
     "output_type": "stream",
     "text": [
      "i am in derived class fun\n"
     ]
    }
   ],
   "source": [
    "class base():\n",
    "    def fun(self):\n",
    "        print(\"i am in base class fun\")\n",
    "        \n",
    "class derived(base):\n",
    "    def fun(self):\n",
    "        print(\"i am in derived class fun\")\n",
    "\n",
    "obj=derived()\n",
    "obj.fun()"
   ]
  },
  {
   "cell_type": "code",
   "execution_count": 34,
   "metadata": {},
   "outputs": [
    {
     "name": "stdout",
     "output_type": "stream",
     "text": [
      "i am constructor of class A\n"
     ]
    }
   ],
   "source": [
    "# constructors also get inherited\n",
    "\n",
    "class A():\n",
    "    def __init__(self):\n",
    "        print(\"i am constructor of class A\")\n",
    "        \n",
    "class B(A):\n",
    "    pass\n",
    "\n",
    "obj=B()"
   ]
  },
  {
   "cell_type": "code",
   "execution_count": 35,
   "metadata": {},
   "outputs": [
    {
     "name": "stdout",
     "output_type": "stream",
     "text": [
      "i am derived class constructor\n"
     ]
    }
   ],
   "source": [
    "# same rule applies to constructor as well that if base and derived both have a constructor, derived class gets priority\n",
    "\n",
    "class A():\n",
    "    def __init__(self):\n",
    "        print(\"i am constructor of class A\")\n",
    "        \n",
    "class B(A):\n",
    "    def __init__(self):\n",
    "        print(\"i am derived class constructor\")\n",
    "\n",
    "obj=B()"
   ]
  },
  {
   "cell_type": "code",
   "execution_count": 36,
   "metadata": {},
   "outputs": [
    {
     "name": "stdout",
     "output_type": "stream",
     "text": [
      "i am in fun of A\n",
      "i am hello of B\n"
     ]
    }
   ],
   "source": [
    "class A():\n",
    "    def fun(self):\n",
    "        print(\"i am in fun of A\")\n",
    "    \n",
    "class B():\n",
    "    def hello(self):\n",
    "        print(\"i am hello of B\")\n",
    "        \n",
    "class C(A, B):\n",
    "    pass\n",
    "\n",
    "obj=C()\n",
    "obj.fun()\n",
    "obj.hello()"
   ]
  },
  {
   "cell_type": "code",
   "execution_count": 37,
   "metadata": {},
   "outputs": [
    {
     "name": "stdout",
     "output_type": "stream",
     "text": [
      "i am in fun of A\n"
     ]
    }
   ],
   "source": [
    "class A():\n",
    "    def fun(self):\n",
    "        print(\"i am in fun of A\")\n",
    "    \n",
    "class B():\n",
    "    def fun(self):\n",
    "        print(\"i am hello of B\")\n",
    "        \n",
    "class C(A, B):  # priority is from right to left, first B fun get inherited then A fun get inherited and overwrites it\n",
    "    pass\n",
    "\n",
    "obj=C()\n",
    "obj.fun()"
   ]
  },
  {
   "cell_type": "code",
   "execution_count": null,
   "metadata": {},
   "outputs": [],
   "source": []
  }
 ],
 "metadata": {
  "kernelspec": {
   "display_name": "Python 3",
   "language": "python",
   "name": "python3"
  },
  "language_info": {
   "codemirror_mode": {
    "name": "ipython",
    "version": 3
   },
   "file_extension": ".py",
   "mimetype": "text/x-python",
   "name": "python",
   "nbconvert_exporter": "python",
   "pygments_lexer": "ipython3",
   "version": "3.7.6"
  }
 },
 "nbformat": 4,
 "nbformat_minor": 4
}
