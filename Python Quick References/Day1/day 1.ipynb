{
 "cells": [
  {
   "cell_type": "code",
   "execution_count": 3,
   "metadata": {},
   "outputs": [
    {
     "data": {
      "text/plain": [
       "30"
      ]
     },
     "execution_count": 3,
     "metadata": {},
     "output_type": "execute_result"
    }
   ],
   "source": [
    "__author__ = 'Abhaya Agrawal'\n",
    "# is for line comment\n",
    "'''\n",
    "block \n",
    "comment\n",
    "'''\n",
    "\n",
    "\"\"\"\n",
    "again a \n",
    "block comment\n",
    "\"\"\"\n",
    "a=10\n",
    "b=20\n",
    "c=a+b\n",
    "c"
   ]
  },
  {
   "cell_type": "code",
   "execution_count": 7,
   "metadata": {},
   "outputs": [
    {
     "name": "stdout",
     "output_type": "stream",
     "text": [
      "success\n",
      "a is less than b\n",
      "c is greater than a\n"
     ]
    }
   ],
   "source": [
    "a=10\n",
    "b=20\n",
    "c=30\n",
    "if a<b: #colon says we are starting a block\n",
    "    print(\"success\")\n",
    "    print(\"a is less than b\")\n",
    "    if c>a:\n",
    "        print(\"c is greater than a\")\n",
    "    else:\n",
    "        print(\"c is not greater than a\")\n",
    "else:\n",
    "    print(\"failure\")\n",
    "    print(\"a is not less than b\")"
   ]
  },
  {
   "cell_type": "code",
   "execution_count": 8,
   "metadata": {},
   "outputs": [
    {
     "name": "stdout",
     "output_type": "stream",
     "text": [
      "<class 'str'>\n"
     ]
    }
   ],
   "source": [
    "name='John'\n",
    "print(type(name))"
   ]
  },
  {
   "cell_type": "code",
   "execution_count": 9,
   "metadata": {},
   "outputs": [
    {
     "data": {
      "text/plain": [
       "int"
      ]
     },
     "execution_count": 9,
     "metadata": {},
     "output_type": "execute_result"
    }
   ],
   "source": [
    "a=10\n",
    "type(a)"
   ]
  },
  {
   "cell_type": "code",
   "execution_count": 10,
   "metadata": {},
   "outputs": [
    {
     "data": {
      "text/plain": [
       "float"
      ]
     },
     "execution_count": 10,
     "metadata": {},
     "output_type": "execute_result"
    }
   ],
   "source": [
    "b=10.22\n",
    "type(b)"
   ]
  },
  {
   "cell_type": "code",
   "execution_count": 11,
   "metadata": {},
   "outputs": [
    {
     "data": {
      "text/plain": [
       "complex"
      ]
     },
     "execution_count": 11,
     "metadata": {},
     "output_type": "execute_result"
    }
   ],
   "source": [
    "x=5j+8\n",
    "type(x)"
   ]
  },
  {
   "cell_type": "code",
   "execution_count": 12,
   "metadata": {},
   "outputs": [
    {
     "data": {
      "text/plain": [
       "'johnjohnjohn'"
      ]
     },
     "execution_count": 12,
     "metadata": {},
     "output_type": "execute_result"
    }
   ],
   "source": [
    "# strings can be concatenated using + or *\n",
    "\"john\"*3"
   ]
  },
  {
   "cell_type": "code",
   "execution_count": 13,
   "metadata": {},
   "outputs": [
    {
     "data": {
      "text/plain": [
       "'john Mathew'"
      ]
     },
     "execution_count": 13,
     "metadata": {},
     "output_type": "execute_result"
    }
   ],
   "source": [
    "\"john\" + ' '+'Mathew'"
   ]
  },
  {
   "cell_type": "code",
   "execution_count": 14,
   "metadata": {},
   "outputs": [
    {
     "data": {
      "text/plain": [
       "'johnMathew'"
      ]
     },
     "execution_count": 14,
     "metadata": {},
     "output_type": "execute_result"
    }
   ],
   "source": [
    "\"john\" +'Mathew'"
   ]
  },
  {
   "cell_type": "code",
   "execution_count": 15,
   "metadata": {},
   "outputs": [
    {
     "data": {
      "text/plain": [
       "'john          Mathew'"
      ]
     },
     "execution_count": 15,
     "metadata": {},
     "output_type": "execute_result"
    }
   ],
   "source": [
    "\"john          \" +'Mathew'"
   ]
  },
  {
   "cell_type": "code",
   "execution_count": 16,
   "metadata": {},
   "outputs": [
    {
     "ename": "TypeError",
     "evalue": "can only concatenate str (not \"int\") to str",
     "output_type": "error",
     "traceback": [
      "\u001b[1;31m---------------------------------------------------------------------------\u001b[0m",
      "\u001b[1;31mTypeError\u001b[0m                                 Traceback (most recent call last)",
      "\u001b[1;32m<ipython-input-16-a0e81278f3fa>\u001b[0m in \u001b[0;36m<module>\u001b[1;34m\u001b[0m\n\u001b[1;32m----> 1\u001b[1;33m \u001b[1;34m\"john\"\u001b[0m\u001b[1;33m+\u001b[0m\u001b[1;36m3\u001b[0m\u001b[1;33m\u001b[0m\u001b[1;33m\u001b[0m\u001b[0m\n\u001b[0m",
      "\u001b[1;31mTypeError\u001b[0m: can only concatenate str (not \"int\") to str"
     ]
    }
   ],
   "source": [
    "\"john\"+3"
   ]
  },
  {
   "cell_type": "code",
   "execution_count": 17,
   "metadata": {},
   "outputs": [
    {
     "data": {
      "text/plain": [
       "'john3'"
      ]
     },
     "execution_count": 17,
     "metadata": {},
     "output_type": "execute_result"
    }
   ],
   "source": [
    "\"john\"+\"3\""
   ]
  },
  {
   "cell_type": "code",
   "execution_count": 19,
   "metadata": {},
   "outputs": [
    {
     "name": "stdout",
     "output_type": "stream",
     "text": [
      "Please enter your first nameamit\n",
      "Please enter your last namekumar\n",
      "Please enter your age 22\n",
      "hello  amit kumar you are an adult as your age is  22\n"
     ]
    }
   ],
   "source": [
    "fname=input(\"Please enter your first name\")\n",
    "lname=input(\"Please enter your last name\")\n",
    "age=int(input(\"Please enter your age \"))\n",
    "fullname = fname + ' '+lname\n",
    "if age>18:\n",
    "    print(\"hello \", fullname, \"you are an adult as your age is \", age)\n",
    "else:\n",
    "    print(\"hello \", fullname, \"you are not an adult as your age is \", age)"
   ]
  },
  {
   "cell_type": "code",
   "execution_count": 21,
   "metadata": {},
   "outputs": [
    {
     "name": "stdout",
     "output_type": "stream",
     "text": [
      "Please enter radius of the circle3\n",
      "Area is  28.274333882308138\n",
      "Perimeter is  18.84955592153876\n"
     ]
    }
   ],
   "source": [
    "# write a program to find the area and perimeter of a circle after taking radius from user\n",
    "\n",
    "import math\n",
    "radius = float(input(\"Please enter radius of the circle\"))\n",
    "Area = math.pi*radius**2\n",
    "Perimeter = 2*math.pi*radius\n",
    "print (\"Area is \", Area)\n",
    "print (\"Perimeter is \", Perimeter)"
   ]
  },
  {
   "cell_type": "code",
   "execution_count": 22,
   "metadata": {},
   "outputs": [
    {
     "data": {
      "text/plain": [
       "['__doc__',\n",
       " '__loader__',\n",
       " '__name__',\n",
       " '__package__',\n",
       " '__spec__',\n",
       " 'acos',\n",
       " 'acosh',\n",
       " 'asin',\n",
       " 'asinh',\n",
       " 'atan',\n",
       " 'atan2',\n",
       " 'atanh',\n",
       " 'ceil',\n",
       " 'copysign',\n",
       " 'cos',\n",
       " 'cosh',\n",
       " 'degrees',\n",
       " 'e',\n",
       " 'erf',\n",
       " 'erfc',\n",
       " 'exp',\n",
       " 'expm1',\n",
       " 'fabs',\n",
       " 'factorial',\n",
       " 'floor',\n",
       " 'fmod',\n",
       " 'frexp',\n",
       " 'fsum',\n",
       " 'gamma',\n",
       " 'gcd',\n",
       " 'hypot',\n",
       " 'inf',\n",
       " 'isclose',\n",
       " 'isfinite',\n",
       " 'isinf',\n",
       " 'isnan',\n",
       " 'ldexp',\n",
       " 'lgamma',\n",
       " 'log',\n",
       " 'log10',\n",
       " 'log1p',\n",
       " 'log2',\n",
       " 'modf',\n",
       " 'nan',\n",
       " 'pi',\n",
       " 'pow',\n",
       " 'radians',\n",
       " 'remainder',\n",
       " 'sin',\n",
       " 'sinh',\n",
       " 'sqrt',\n",
       " 'tan',\n",
       " 'tanh',\n",
       " 'tau',\n",
       " 'trunc']"
      ]
     },
     "execution_count": 22,
     "metadata": {},
     "output_type": "execute_result"
    }
   ],
   "source": [
    "import math\n",
    "dir(math)"
   ]
  },
  {
   "cell_type": "code",
   "execution_count": 23,
   "metadata": {},
   "outputs": [
    {
     "name": "stdout",
     "output_type": "stream",
     "text": [
      "Please enter radius of the circle4\n",
      "Area is  50.26548245743669\n",
      "Perimeter is  25.132741228718345\n"
     ]
    }
   ],
   "source": [
    "from math import pi\n",
    "radius = float(input(\"Please enter radius of the circle\"))\n",
    "Area = pi*radius**2\n",
    "Perimeter = 2*pi*radius\n",
    "print (\"Area is \", Area)\n",
    "print (\"Perimeter is \", Perimeter)"
   ]
  },
  {
   "cell_type": "code",
   "execution_count": 24,
   "metadata": {},
   "outputs": [
    {
     "name": "stdout",
     "output_type": "stream",
     "text": [
      "First num10\n",
      "Second num2\n",
      "Third num4\n",
      "Greatest number is 10\n"
     ]
    }
   ],
   "source": [
    "# take input from the user 3 numbers and find the greatest among them\n",
    "\n",
    "num1= int(input(\"First num\"))\n",
    "num2= int(input(\"Second num\"))\n",
    "num3= int(input(\"Third num\"))\n",
    "if num1 > num2 and num1> num3:\n",
    "    print(\"Greatest number is\", num1)\n",
    "elif num2 > num3 and num2 > num1:\n",
    "    print(\"Greatest number is\", num2)\n",
    "else:\n",
    "    print(\"Greatest number is\", num3)"
   ]
  },
  {
   "cell_type": "code",
   "execution_count": 25,
   "metadata": {},
   "outputs": [
    {
     "name": "stdout",
     "output_type": "stream",
     "text": [
      "count is  1\n",
      "count is  2\n",
      "count is  3\n",
      "count is  4\n",
      "count is  5\n",
      "count is  6\n",
      "count is  7\n",
      "count is  8\n",
      "count is  9\n",
      "count is  10\n",
      "bye\n"
     ]
    }
   ],
   "source": [
    "count=1\n",
    "while count<=10:\n",
    "    print(\"count is \", count)\n",
    "    count+=1\n",
    "print(\"bye\")"
   ]
  },
  {
   "cell_type": "code",
   "execution_count": 26,
   "metadata": {},
   "outputs": [
    {
     "name": "stdout",
     "output_type": "stream",
     "text": [
      "count is  1\n",
      "count is  2\n",
      "count is  3\n",
      "count is  4\n",
      "count is  5\n",
      "bye\n"
     ]
    }
   ],
   "source": [
    "count=1\n",
    "while count<=10:\n",
    "    print(\"count is \", count)\n",
    "    if count==5:\n",
    "        break  #terminate the loop and control will come out of loop\n",
    "    count+=1\n",
    "print(\"bye\")"
   ]
  },
  {
   "cell_type": "code",
   "execution_count": 27,
   "metadata": {},
   "outputs": [
    {
     "name": "stdout",
     "output_type": "stream",
     "text": [
      "count is  1\n",
      "count is  2\n",
      "count is  3\n",
      "count is  4\n",
      "count is  5\n"
     ]
    },
    {
     "ename": "SystemExit",
     "evalue": "",
     "output_type": "error",
     "traceback": [
      "An exception has occurred, use %tb to see the full traceback.\n",
      "\u001b[1;31mSystemExit\u001b[0m\n"
     ]
    },
    {
     "name": "stderr",
     "output_type": "stream",
     "text": [
      "C:\\ProgramData\\Anaconda3\\lib\\site-packages\\IPython\\core\\interactiveshell.py:3339: UserWarning: To exit: use 'exit', 'quit', or Ctrl-D.\n",
      "  warn(\"To exit: use 'exit', 'quit', or Ctrl-D.\", stacklevel=1)\n"
     ]
    }
   ],
   "source": [
    "import sys\n",
    "count=1\n",
    "while count<=10:\n",
    "    print(\"count is \", count)\n",
    "    if count==5:\n",
    "        sys.exit() # terminate the program and bye will not be printed\n",
    "    count+=1\n",
    "print(\"bye\")"
   ]
  },
  {
   "cell_type": "code",
   "execution_count": 28,
   "metadata": {},
   "outputs": [
    {
     "name": "stdout",
     "output_type": "stream",
     "text": [
      "count is  1\n",
      "count is  2\n",
      "count is  3\n",
      "count is  4\n",
      "count is  5\n",
      "count is  8\n",
      "count is  9\n",
      "count is  10\n",
      "bye\n"
     ]
    }
   ],
   "source": [
    "count=1\n",
    "while count<=10:\n",
    "    print(\"count is \", count)\n",
    "    if count==5:\n",
    "        count+=3\n",
    "        continue # continue will make the control go to while loop and all statements below it will not execute\n",
    "        print(\"hello\")  \n",
    "    count+=1\n",
    "print(\"bye\")"
   ]
  },
  {
   "cell_type": "code",
   "execution_count": 29,
   "metadata": {},
   "outputs": [
    {
     "data": {
      "text/plain": [
       "True"
      ]
     },
     "execution_count": 29,
     "metadata": {},
     "output_type": "execute_result"
    }
   ],
   "source": [
    "'J' in 'John'"
   ]
  },
  {
   "cell_type": "code",
   "execution_count": 30,
   "metadata": {},
   "outputs": [
    {
     "data": {
      "text/plain": [
       "False"
      ]
     },
     "execution_count": 30,
     "metadata": {},
     "output_type": "execute_result"
    }
   ],
   "source": [
    "'J' not in 'John'"
   ]
  },
  {
   "cell_type": "code",
   "execution_count": 31,
   "metadata": {},
   "outputs": [
    {
     "data": {
      "text/plain": [
       "'J'"
      ]
     },
     "execution_count": 31,
     "metadata": {},
     "output_type": "execute_result"
    }
   ],
   "source": [
    "name='John'\n",
    "name[0]"
   ]
  },
  {
   "cell_type": "code",
   "execution_count": 32,
   "metadata": {},
   "outputs": [
    {
     "ename": "TypeError",
     "evalue": "'str' object does not support item assignment",
     "output_type": "error",
     "traceback": [
      "\u001b[1;31m---------------------------------------------------------------------------\u001b[0m",
      "\u001b[1;31mTypeError\u001b[0m                                 Traceback (most recent call last)",
      "\u001b[1;32m<ipython-input-32-0f5f81f53570>\u001b[0m in \u001b[0;36m<module>\u001b[1;34m\u001b[0m\n\u001b[1;32m----> 1\u001b[1;33m \u001b[0mname\u001b[0m\u001b[1;33m[\u001b[0m\u001b[1;36m0\u001b[0m\u001b[1;33m]\u001b[0m\u001b[1;33m=\u001b[0m\u001b[1;34m'K'\u001b[0m\u001b[1;33m\u001b[0m\u001b[1;33m\u001b[0m\u001b[0m\n\u001b[0m",
      "\u001b[1;31mTypeError\u001b[0m: 'str' object does not support item assignment"
     ]
    }
   ],
   "source": [
    "name[0]='K'"
   ]
  },
  {
   "cell_type": "code",
   "execution_count": 33,
   "metadata": {},
   "outputs": [
    {
     "name": "stdout",
     "output_type": "stream",
     "text": [
      "0th index of name is  J\n",
      "1st index of name is  o\n",
      "2nd index of name is  h\n",
      "3rd index of name is  n\n"
     ]
    }
   ],
   "source": [
    "name='John'\n",
    "print(\"0th index of name is \", name[0])\n",
    "print(\"1st index of name is \", name[1])\n",
    "print(\"2nd index of name is \", name[2])\n",
    "print(\"3rd index of name is \", name[3])"
   ]
  },
  {
   "cell_type": "code",
   "execution_count": 34,
   "metadata": {},
   "outputs": [
    {
     "name": "stdout",
     "output_type": "stream",
     "text": [
      "value fetched is  J\n",
      "value fetched is  o\n",
      "value fetched is  h\n",
      "value fetched is  n\n"
     ]
    }
   ],
   "source": [
    "for x in name:  #x is a temporary variable which fetches value one by one sequentially from every index location\n",
    "    print(\"value fetched is \", x)"
   ]
  },
  {
   "cell_type": "code",
   "execution_count": 35,
   "metadata": {},
   "outputs": [
    {
     "data": {
      "text/plain": [
       "'JOHN'"
      ]
     },
     "execution_count": 35,
     "metadata": {},
     "output_type": "execute_result"
    }
   ],
   "source": [
    "name='john'\n",
    "name.upper() # returns whole string in uppercase"
   ]
  },
  {
   "cell_type": "code",
   "execution_count": 36,
   "metadata": {},
   "outputs": [
    {
     "data": {
      "text/plain": [
       "'john'"
      ]
     },
     "execution_count": 36,
     "metadata": {},
     "output_type": "execute_result"
    }
   ],
   "source": [
    "name='JOHN'\n",
    "name.lower() # returns whole string in lower case"
   ]
  },
  {
   "cell_type": "code",
   "execution_count": 37,
   "metadata": {},
   "outputs": [
    {
     "data": {
      "text/plain": [
       "'John Mathew'"
      ]
     },
     "execution_count": 37,
     "metadata": {},
     "output_type": "execute_result"
    }
   ],
   "source": [
    "name='john mathew'\n",
    "name.title() # returns whole string where first char is in upper case"
   ]
  },
  {
   "cell_type": "code",
   "execution_count": 38,
   "metadata": {},
   "outputs": [
    {
     "name": "stdout",
     "output_type": "stream",
     "text": [
      "Please enter your name amit KUmar Singh\n",
      "total number of vowels in  amit KUmar Singh are :  5\n"
     ]
    }
   ],
   "source": [
    "# i want to find number of vowels in a name let it be upper case or lower case\n",
    "\n",
    "name = input(\"Please enter your name \")\n",
    "count=0\n",
    "for x in name:\n",
    "    if x.upper() in \"AEIOU\":\n",
    "        count+=1\n",
    "print(\"total number of vowels in \",name, \"are : \", count)"
   ]
  },
  {
   "cell_type": "code",
   "execution_count": 39,
   "metadata": {},
   "outputs": [
    {
     "name": "stdout",
     "output_type": "stream",
     "text": [
      "Please enter your name amit Kumar Singh\n",
      "success\n"
     ]
    }
   ],
   "source": [
    "name = input(\"Please enter your name \")\n",
    "if \"Kumar\" in name:\n",
    "    print(\"success\")\n",
    "else:\n",
    "    print(\"failure\")"
   ]
  },
  {
   "cell_type": "code",
   "execution_count": 40,
   "metadata": {},
   "outputs": [
    {
     "name": "stdout",
     "output_type": "stream",
     "text": [
      "Please enter your first name Amit Kumar\n",
      "Please enter your last name Srivastava\n",
      "Total number of chars in a name exclusing space :  19\n",
      "count the number of spaces in a name : 2\n",
      "count the capital letters in name :  3\n",
      "count the small case letters in name :  16\n",
      "count the special chars if any in name :  0\n",
      "count the vowels in a name :  8\n"
     ]
    }
   ],
   "source": [
    "'''\n",
    "take first name and last name from the user\n",
    "create a new variable which contains full name\n",
    "1. find the total number of chars in a name excluding spaces\n",
    "2. count the number of spaces in a name\n",
    "3. count the capital letters in name\n",
    "4. count the small case letters in name\n",
    "5. count the special chars if any in name\n",
    "6. count the vowels in a name\n",
    "'''\n",
    "\n",
    "fname = input(\"Please enter your first name \")\n",
    "lname = input(\"Please enter your last name \")\n",
    "fullname = fname + ' ' + lname\n",
    "space_count, upper_count, lower_count, special_count, vowel_count = 0,0,0,0,0\n",
    "for x in fullname:\n",
    "    if x.isspace():\n",
    "        space_count+=1\n",
    "    elif x.isupper():\n",
    "        upper_count+=1\n",
    "    elif x.islower():\n",
    "        lower_count+=1\n",
    "    elif x.isdigit():\n",
    "        pass\n",
    "    else:\n",
    "        special_count+=1\n",
    "        \n",
    "    if x.upper() in \"AEIOU\":\n",
    "        vowel_count+=1\n",
    "print(\"Total number of chars in a name exclusing space : \", len(fullname)-space_count)\n",
    "print(\"count the number of spaces in a name :\", space_count)\n",
    "print(\"count the capital letters in name : \", upper_count)\n",
    "print(\"count the small case letters in name : \",lower_count)\n",
    "print(\"count the special chars if any in name : \",special_count)\n",
    "print(\"count the vowels in a name : \",vowel_count)"
   ]
  },
  {
   "cell_type": "code",
   "execution_count": null,
   "metadata": {},
   "outputs": [],
   "source": []
  }
 ],
 "metadata": {
  "kernelspec": {
   "display_name": "Python 3",
   "language": "python",
   "name": "python3"
  },
  "language_info": {
   "codemirror_mode": {
    "name": "ipython",
    "version": 3
   },
   "file_extension": ".py",
   "mimetype": "text/x-python",
   "name": "python",
   "nbconvert_exporter": "python",
   "pygments_lexer": "ipython3",
   "version": "3.7.6"
  }
 },
 "nbformat": 4,
 "nbformat_minor": 4
}
