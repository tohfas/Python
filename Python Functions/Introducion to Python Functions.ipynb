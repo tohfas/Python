{
 "cells": [
  {
   "cell_type": "code",
   "execution_count": 1,
   "metadata": {},
   "outputs": [],
   "source": [
    "#Functions\n",
    "\n",
    "#Functions are reusable peices of programs. They allow you to give a name to a block of statements, allowing you to run that block using specified name anywhere in you program and any number of times. This is known as calling functions. There are many built in functions such as len and range\n"
   ]
  },
  {
   "cell_type": "code",
   "execution_count": 2,
   "metadata": {},
   "outputs": [
    {
     "name": "stdout",
     "output_type": "stream",
     "text": [
      "knock knock knock\n",
      "knock knock knock\n",
      "knock knock knock\n"
     ]
    }
   ],
   "source": [
    "#print sheldon knock\n",
    "print(\"knock knock knock\")\n",
    "print(\"knock knock knock\")\n",
    "print(\"knock knock knock\")\n",
    "\n"
   ]
  },
  {
   "cell_type": "code",
   "execution_count": 4,
   "metadata": {},
   "outputs": [],
   "source": [
    "#using function\n",
    "\n",
    "def sheldon_knock():\n",
    "    print(\"knock knock knock\")\n",
    "    print(\"knock knock knock\")\n",
    "    print(\"knock knock knock\")\n"
   ]
  },
  {
   "cell_type": "code",
   "execution_count": 6,
   "metadata": {},
   "outputs": [
    {
     "name": "stdout",
     "output_type": "stream",
     "text": [
      "knock knock knock\n",
      "knock knock knock\n",
      "knock knock knock\n",
      "30\n",
      "0\n",
      "1\n",
      "2\n",
      "3\n",
      "4\n",
      "5\n",
      "6\n",
      "7\n",
      "8\n",
      "9\n",
      "knock knock knock\n",
      "knock knock knock\n",
      "knock knock knock\n"
     ]
    }
   ],
   "source": [
    "sheldon_knock()\n",
    "print(10+20)\n",
    "for i in range (10):\n",
    "    print(i)\n",
    "sheldon_knock()"
   ]
  },
  {
   "cell_type": "code",
   "execution_count": 7,
   "metadata": {},
   "outputs": [],
   "source": [
    "#Functions can take Parameters\n",
    "\n",
    "# Python being dynamically typed doesnot need any datatype declaration for variables unlike C, C+, same goes for return statement...you can return anytype of data\n",
    "def sheldon_knock(name):\n",
    "    print(\"knock knock knock\", format(name))\n",
    "    print(\"knock knock knock\", format(name))\n",
    "    print(\"knock knock knock\",format(name))\n",
    "    "
   ]
  },
  {
   "cell_type": "code",
   "execution_count": 8,
   "metadata": {},
   "outputs": [
    {
     "name": "stdout",
     "output_type": "stream",
     "text": [
      "knock knock knock penny\n",
      "knock knock knock penny\n",
      "knock knock knock penny\n"
     ]
    }
   ],
   "source": [
    "sheldon_knock(\"penny\")"
   ]
  },
  {
   "cell_type": "code",
   "execution_count": 9,
   "metadata": {},
   "outputs": [],
   "source": [
    "#you can take multiple parameters\n",
    "\n",
    "def sheldon_knock(name, number_of_times):\n",
    "    for i in range(number_of_times):\n",
    "        print(\"knock knock knock\", format(name))\n",
    "        \n",
    "\n",
    "    \n",
    "    "
   ]
  },
  {
   "cell_type": "code",
   "execution_count": 11,
   "metadata": {},
   "outputs": [
    {
     "name": "stdout",
     "output_type": "stream",
     "text": [
      "knock knock knock penny\n",
      "knock knock knock penny\n",
      "knock knock knock penny\n",
      "knock knock knock penny\n",
      "knock knock knock penny\n",
      "knock knock knock penny\n",
      "knock knock knock penny\n",
      "knock knock knock penny\n",
      "knock knock knock penny\n",
      "knock knock knock penny\n",
      "knock knock knock penny\n",
      "knock knock knock penny\n",
      "knock knock knock penny\n",
      "knock knock knock penny\n",
      "knock knock knock penny\n",
      "knock knock knock penny\n",
      "knock knock knock penny\n",
      "knock knock knock penny\n",
      "knock knock knock penny\n",
      "knock knock knock penny\n",
      "knock knock knock penny\n",
      "knock knock knock penny\n",
      "knock knock knock penny\n",
      "knock knock knock penny\n",
      "knock knock knock penny\n",
      "knock knock knock penny\n",
      "knock knock knock penny\n",
      "knock knock knock penny\n",
      "knock knock knock penny\n",
      "knock knock knock penny\n",
      "knock knock knock penny\n",
      "knock knock knock penny\n",
      "knock knock knock penny\n",
      "knock knock knock penny\n",
      "knock knock knock penny\n",
      "knock knock knock penny\n",
      "knock knock knock penny\n",
      "knock knock knock penny\n",
      "knock knock knock penny\n",
      "knock knock knock penny\n",
      "knock knock knock penny\n",
      "knock knock knock penny\n",
      "knock knock knock penny\n",
      "knock knock knock penny\n",
      "knock knock knock penny\n",
      "knock knock knock penny\n",
      "knock knock knock penny\n",
      "knock knock knock penny\n",
      "knock knock knock penny\n",
      "knock knock knock penny\n",
      "knock knock knock penny\n",
      "knock knock knock penny\n",
      "knock knock knock penny\n",
      "knock knock knock penny\n",
      "knock knock knock penny\n",
      "knock knock knock penny\n",
      "knock knock knock penny\n",
      "knock knock knock penny\n",
      "knock knock knock penny\n",
      "knock knock knock penny\n",
      "knock knock knock penny\n",
      "knock knock knock penny\n",
      "knock knock knock penny\n",
      "knock knock knock penny\n",
      "knock knock knock penny\n",
      "knock knock knock penny\n",
      "knock knock knock penny\n",
      "knock knock knock penny\n",
      "knock knock knock penny\n",
      "knock knock knock penny\n",
      "knock knock knock penny\n",
      "knock knock knock penny\n",
      "knock knock knock penny\n",
      "knock knock knock penny\n",
      "knock knock knock penny\n",
      "knock knock knock penny\n",
      "knock knock knock penny\n",
      "knock knock knock penny\n",
      "knock knock knock penny\n",
      "knock knock knock penny\n",
      "knock knock knock penny\n",
      "knock knock knock penny\n",
      "knock knock knock penny\n",
      "knock knock knock penny\n",
      "knock knock knock penny\n",
      "knock knock knock penny\n",
      "knock knock knock penny\n",
      "knock knock knock penny\n",
      "knock knock knock penny\n",
      "knock knock knock penny\n",
      "knock knock knock penny\n",
      "knock knock knock penny\n",
      "knock knock knock penny\n",
      "knock knock knock penny\n",
      "knock knock knock penny\n",
      "knock knock knock penny\n",
      "knock knock knock penny\n",
      "knock knock knock penny\n",
      "knock knock knock penny\n",
      "knock knock knock penny\n"
     ]
    }
   ],
   "source": [
    "sheldon_knock(\"penny\",100)"
   ]
  },
  {
   "cell_type": "code",
   "execution_count": 12,
   "metadata": {},
   "outputs": [],
   "source": [
    "#you can give default values to the parameters\n",
    "def sheldon_knock(name, number_of_times=3):\n",
    "    for i in range(number_of_times):\n",
    "        print(\"knock knock knock\", format(name))\n",
    "        "
   ]
  },
  {
   "cell_type": "code",
   "execution_count": 13,
   "metadata": {},
   "outputs": [
    {
     "name": "stdout",
     "output_type": "stream",
     "text": [
      "knock knock knock penny\n",
      "knock knock knock penny\n",
      "knock knock knock penny\n"
     ]
    }
   ],
   "source": [
    "sheldon_knock(\"penny\")"
   ]
  },
  {
   "cell_type": "code",
   "execution_count": 14,
   "metadata": {},
   "outputs": [
    {
     "name": "stdout",
     "output_type": "stream",
     "text": [
      "knock knock knock penny\n",
      "knock knock knock penny\n",
      "knock knock knock penny\n",
      "knock knock knock penny\n",
      "knock knock knock penny\n",
      "knock knock knock penny\n",
      "knock knock knock penny\n",
      "knock knock knock penny\n",
      "knock knock knock penny\n",
      "knock knock knock penny\n"
     ]
    }
   ],
   "source": [
    "#now seee if you explicitly a value to the parameter lets say 10\n",
    "sheldon_knock(\"penny\",10)"
   ]
  },
  {
   "cell_type": "code",
   "execution_count": null,
   "metadata": {},
   "outputs": [],
   "source": []
  }
 ],
 "metadata": {
  "kernelspec": {
   "display_name": "Python 3",
   "language": "python",
   "name": "python3"
  },
  "language_info": {
   "codemirror_mode": {
    "name": "ipython",
    "version": 3
   },
   "file_extension": ".py",
   "mimetype": "text/x-python",
   "name": "python",
   "nbconvert_exporter": "python",
   "pygments_lexer": "ipython3",
   "version": "3.8.3"
  }
 },
 "nbformat": 4,
 "nbformat_minor": 4
}
