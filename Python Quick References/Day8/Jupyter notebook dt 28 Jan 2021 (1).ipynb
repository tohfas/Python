{
 "cells": [
  {
   "cell_type": "code",
   "execution_count": 10,
   "metadata": {},
   "outputs": [],
   "source": [
    "import numpy\n",
    "import pandas\n",
    "from sklearn.linear_model import LogisticRegression\n",
    "from sklearn.metrics import accuracy_score\n",
    "import seaborn as sns\n",
    "from sklearn.model_selection import train_test_split"
   ]
  },
  {
   "cell_type": "code",
   "execution_count": 11,
   "metadata": {},
   "outputs": [],
   "source": [
    "data = pandas.read_csv(r'D:\\desktop\\Logistic Regression\\data.csv')"
   ]
  },
  {
   "cell_type": "code",
   "execution_count": 12,
   "metadata": {},
   "outputs": [
    {
     "data": {
      "text/plain": [
       "(569, 32)"
      ]
     },
     "execution_count": 12,
     "metadata": {},
     "output_type": "execute_result"
    }
   ],
   "source": [
    "data.shape"
   ]
  },
  {
   "cell_type": "code",
   "execution_count": 13,
   "metadata": {},
   "outputs": [
    {
     "data": {
      "text/plain": [
       "Index(['id', 'diagnosis', 'radius_mean', 'texture_mean', 'perimeter_mean',\n",
       "       'area_mean', 'smoothness_mean', 'compactness_mean', 'concavity_mean',\n",
       "       'concave points_mean', 'symmetry_mean', 'fractal_dimension_mean',\n",
       "       'radius_se', 'texture_se', 'perimeter_se', 'area_se', 'smoothness_se',\n",
       "       'compactness_se', 'concavity_se', 'concave points_se', 'symmetry_se',\n",
       "       'fractal_dimension_se', 'radius_worst', 'texture_worst',\n",
       "       'perimeter_worst', 'area_worst', 'smoothness_worst',\n",
       "       'compactness_worst', 'concavity_worst', 'concave points_worst',\n",
       "       'symmetry_worst', 'fractal_dimension_worst'],\n",
       "      dtype='object')"
      ]
     },
     "execution_count": 13,
     "metadata": {},
     "output_type": "execute_result"
    }
   ],
   "source": [
    "data.columns"
   ]
  },
  {
   "cell_type": "code",
   "execution_count": 14,
   "metadata": {},
   "outputs": [],
   "source": [
    "data.drop('id', axis=1, inplace=True)"
   ]
  },
  {
   "cell_type": "code",
   "execution_count": 15,
   "metadata": {},
   "outputs": [
    {
     "data": {
      "text/plain": [
       "array([1, 0], dtype=int64)"
      ]
     },
     "execution_count": 15,
     "metadata": {},
     "output_type": "execute_result"
    }
   ],
   "source": [
    "# converting the categorical data to continuous \n",
    "data['diagnosis']=data['diagnosis'].map({'M':1,'B':0})\n",
    "data['diagnosis'].unique()"
   ]
  },
  {
   "cell_type": "code",
   "execution_count": 16,
   "metadata": {},
   "outputs": [
    {
     "data": {
      "text/plain": [
       "['radius_mean',\n",
       " 'texture_mean',\n",
       " 'perimeter_mean',\n",
       " 'area_mean',\n",
       " 'smoothness_mean',\n",
       " 'compactness_mean',\n",
       " 'concavity_mean',\n",
       " 'concave points_mean',\n",
       " 'symmetry_mean',\n",
       " 'fractal_dimension_mean']"
      ]
     },
     "execution_count": 16,
     "metadata": {},
     "output_type": "execute_result"
    }
   ],
   "source": [
    "feature_mean = list(data.columns[1:11])\n",
    "feature_mean"
   ]
  },
  {
   "cell_type": "code",
   "execution_count": 17,
   "metadata": {},
   "outputs": [
    {
     "data": {
      "image/png": "[encoded data removed]",
      "text/plain": [
       "<Figure size 432x288 with 1 Axes>"
      ]
     },
     "metadata": {
      "needs_background": "light"
     },
     "output_type": "display_data"
    }
   ],
   "source": [
    "# we need to count if the dependent var is equal in number of categories\n",
    "# for the balanced data metrics of measurement of accuracy is :- accuracy_score\n",
    "# for the unbalanced data, metrics of measurement of accuracy is :- f1 score\n",
    "\n",
    "import matplotlib.pyplot as plt\n",
    "sns.countplot(data['diagnosis'], label='count')\n",
    "plt.show()"
   ]
  },
  {
   "cell_type": "code",
   "execution_count": 18,
   "metadata": {},
   "outputs": [
    {
     "data": {
      "text/html": [
       "<div>\n",
       "<style scoped>\n",
       "    .dataframe tbody tr th:only-of-type {\n",
       "        vertical-align: middle;\n",
       "    }\n",
       "\n",
       "    .dataframe tbody tr th {\n",
       "        vertical-align: top;\n",
       "    }\n",
       "\n",
       "    .dataframe thead th {\n",
       "        text-align: right;\n",
       "    }\n",
       "</style>\n",
       "<table border=\"1\" class=\"dataframe\">\n",
       "  <thead>\n",
       "    <tr style=\"text-align: right;\">\n",
       "      <th></th>\n",
       "      <th>radius_mean</th>\n",
       "      <th>texture_mean</th>\n",
       "      <th>perimeter_mean</th>\n",
       "      <th>area_mean</th>\n",
       "      <th>smoothness_mean</th>\n",
       "      <th>compactness_mean</th>\n",
       "      <th>concavity_mean</th>\n",
       "      <th>concave points_mean</th>\n",
       "      <th>symmetry_mean</th>\n",
       "      <th>fractal_dimension_mean</th>\n",
       "    </tr>\n",
       "  </thead>\n",
       "  <tbody>\n",
       "    <tr>\n",
       "      <th>radius_mean</th>\n",
       "      <td>1.000000</td>\n",
       "      <td>0.323782</td>\n",
       "      <td>0.997855</td>\n",
       "      <td>0.987357</td>\n",
       "      <td>0.170581</td>\n",
       "      <td>0.506124</td>\n",
       "      <td>0.676764</td>\n",
       "      <td>0.822529</td>\n",
       "      <td>0.147741</td>\n",
       "      <td>-0.311631</td>\n",
       "    </tr>\n",
       "    <tr>\n",
       "      <th>texture_mean</th>\n",
       "      <td>0.323782</td>\n",
       "      <td>1.000000</td>\n",
       "      <td>0.329533</td>\n",
       "      <td>0.321086</td>\n",
       "      <td>-0.023389</td>\n",
       "      <td>0.236702</td>\n",
       "      <td>0.302418</td>\n",
       "      <td>0.293464</td>\n",
       "      <td>0.071401</td>\n",
       "      <td>-0.076437</td>\n",
       "    </tr>\n",
       "    <tr>\n",
       "      <th>perimeter_mean</th>\n",
       "      <td>0.997855</td>\n",
       "      <td>0.329533</td>\n",
       "      <td>1.000000</td>\n",
       "      <td>0.986507</td>\n",
       "      <td>0.207278</td>\n",
       "      <td>0.556936</td>\n",
       "      <td>0.716136</td>\n",
       "      <td>0.850977</td>\n",
       "      <td>0.183027</td>\n",
       "      <td>-0.261477</td>\n",
       "    </tr>\n",
       "    <tr>\n",
       "      <th>area_mean</th>\n",
       "      <td>0.987357</td>\n",
       "      <td>0.321086</td>\n",
       "      <td>0.986507</td>\n",
       "      <td>1.000000</td>\n",
       "      <td>0.177028</td>\n",
       "      <td>0.498502</td>\n",
       "      <td>0.685983</td>\n",
       "      <td>0.823269</td>\n",
       "      <td>0.151293</td>\n",
       "      <td>-0.283110</td>\n",
       "    </tr>\n",
       "    <tr>\n",
       "      <th>smoothness_mean</th>\n",
       "      <td>0.170581</td>\n",
       "      <td>-0.023389</td>\n",
       "      <td>0.207278</td>\n",
       "      <td>0.177028</td>\n",
       "      <td>1.000000</td>\n",
       "      <td>0.659123</td>\n",
       "      <td>0.521984</td>\n",
       "      <td>0.553695</td>\n",
       "      <td>0.557775</td>\n",
       "      <td>0.584792</td>\n",
       "    </tr>\n",
       "    <tr>\n",
       "      <th>compactness_mean</th>\n",
       "      <td>0.506124</td>\n",
       "      <td>0.236702</td>\n",
       "      <td>0.556936</td>\n",
       "      <td>0.498502</td>\n",
       "      <td>0.659123</td>\n",
       "      <td>1.000000</td>\n",
       "      <td>0.883121</td>\n",
       "      <td>0.831135</td>\n",
       "      <td>0.602641</td>\n",
       "      <td>0.565369</td>\n",
       "    </tr>\n",
       "    <tr>\n",
       "      <th>concavity_mean</th>\n",
       "      <td>0.676764</td>\n",
       "      <td>0.302418</td>\n",
       "      <td>0.716136</td>\n",
       "      <td>0.685983</td>\n",
       "      <td>0.521984</td>\n",
       "      <td>0.883121</td>\n",
       "      <td>1.000000</td>\n",
       "      <td>0.921391</td>\n",
       "      <td>0.500667</td>\n",
       "      <td>0.336783</td>\n",
       "    </tr>\n",
       "    <tr>\n",
       "      <th>concave points_mean</th>\n",
       "      <td>0.822529</td>\n",
       "      <td>0.293464</td>\n",
       "      <td>0.850977</td>\n",
       "      <td>0.823269</td>\n",
       "      <td>0.553695</td>\n",
       "      <td>0.831135</td>\n",
       "      <td>0.921391</td>\n",
       "      <td>1.000000</td>\n",
       "      <td>0.462497</td>\n",
       "      <td>0.166917</td>\n",
       "    </tr>\n",
       "    <tr>\n",
       "      <th>symmetry_mean</th>\n",
       "      <td>0.147741</td>\n",
       "      <td>0.071401</td>\n",
       "      <td>0.183027</td>\n",
       "      <td>0.151293</td>\n",
       "      <td>0.557775</td>\n",
       "      <td>0.602641</td>\n",
       "      <td>0.500667</td>\n",
       "      <td>0.462497</td>\n",
       "      <td>1.000000</td>\n",
       "      <td>0.479921</td>\n",
       "    </tr>\n",
       "    <tr>\n",
       "      <th>fractal_dimension_mean</th>\n",
       "      <td>-0.311631</td>\n",
       "      <td>-0.076437</td>\n",
       "      <td>-0.261477</td>\n",
       "      <td>-0.283110</td>\n",
       "      <td>0.584792</td>\n",
       "      <td>0.565369</td>\n",
       "      <td>0.336783</td>\n",
       "      <td>0.166917</td>\n",
       "      <td>0.479921</td>\n",
       "      <td>1.000000</td>\n",
       "    </tr>\n",
       "  </tbody>\n",
       "</table>\n",
       "</div>"
      ],
      "text/plain": [
       "                        radius_mean  texture_mean  perimeter_mean  area_mean  \\\n",
       "radius_mean                1.000000      0.323782        0.997855   0.987357   \n",
       "texture_mean               0.323782      1.000000        0.329533   0.321086   \n",
       "perimeter_mean             0.997855      0.329533        1.000000   0.986507   \n",
       "area_mean                  0.987357      0.321086        0.986507   1.000000   \n",
       "smoothness_mean            0.170581     -0.023389        0.207278   0.177028   \n",
       "compactness_mean           0.506124      0.236702        0.556936   0.498502   \n",
       "concavity_mean             0.676764      0.302418        0.716136   0.685983   \n",
       "concave points_mean        0.822529      0.293464        0.850977   0.823269   \n",
       "symmetry_mean              0.147741      0.071401        0.183027   0.151293   \n",
       "fractal_dimension_mean    -0.311631     -0.076437       -0.261477  -0.283110   \n",
       "\n",
       "                        smoothness_mean  compactness_mean  concavity_mean  \\\n",
       "radius_mean                    0.170581          0.506124        0.676764   \n",
       "texture_mean                  -0.023389          0.236702        0.302418   \n",
       "perimeter_mean                 0.207278          0.556936        0.716136   \n",
       "area_mean                      0.177028          0.498502        0.685983   \n",
       "smoothness_mean                1.000000          0.659123        0.521984   \n",
       "compactness_mean               0.659123          1.000000        0.883121   \n",
       "concavity_mean                 0.521984          0.883121        1.000000   \n",
       "concave points_mean            0.553695          0.831135        0.921391   \n",
       "symmetry_mean                  0.557775          0.602641        0.500667   \n",
       "fractal_dimension_mean         0.584792          0.565369        0.336783   \n",
       "\n",
       "                        concave points_mean  symmetry_mean  \\\n",
       "radius_mean                        0.822529       0.147741   \n",
       "texture_mean                       0.293464       0.071401   \n",
       "perimeter_mean                     0.850977       0.183027   \n",
       "area_mean                          0.823269       0.151293   \n",
       "smoothness_mean                    0.553695       0.557775   \n",
       "compactness_mean                   0.831135       0.602641   \n",
       "concavity_mean                     0.921391       0.500667   \n",
       "concave points_mean                1.000000       0.462497   \n",
       "symmetry_mean                      0.462497       1.000000   \n",
       "fractal_dimension_mean             0.166917       0.479921   \n",
       "\n",
       "                        fractal_dimension_mean  \n",
       "radius_mean                          -0.311631  \n",
       "texture_mean                         -0.076437  \n",
       "perimeter_mean                       -0.261477  \n",
       "area_mean                            -0.283110  \n",
       "smoothness_mean                       0.584792  \n",
       "compactness_mean                      0.565369  \n",
       "concavity_mean                        0.336783  \n",
       "concave points_mean                   0.166917  \n",
       "symmetry_mean                         0.479921  \n",
       "fractal_dimension_mean                1.000000  "
      ]
     },
     "execution_count": 18,
     "metadata": {},
     "output_type": "execute_result"
    }
   ],
   "source": [
    "# if the variables are having high correlation. if two or more vars have high correlation, we keep one of them and drop others\n",
    "\n",
    "corr=data[feature_mean].corr()\n",
    "corr"
   ]
  },
  {
   "cell_type": "code",
   "execution_count": 19,
   "metadata": {},
   "outputs": [
    {
     "data": {
      "image/png": "[encoded data removed]",
      "text/plain": [
       "<Figure size 432x288 with 2 Axes>"
      ]
     },
     "metadata": {
      "needs_background": "light"
     },
     "output_type": "display_data"
    }
   ],
   "source": [
    "sns.heatmap(corr, cbar=True, square=True)\n",
    "plt.show()"
   ]
  },
  {
   "cell_type": "code",
   "execution_count": 20,
   "metadata": {},
   "outputs": [
    {
     "data": {
      "text/plain": [
       "Index(['diagnosis', 'radius_mean', 'texture_mean', 'perimeter_mean',\n",
       "       'area_mean', 'smoothness_mean', 'compactness_mean', 'concavity_mean',\n",
       "       'concave points_mean', 'symmetry_mean', 'fractal_dimension_mean',\n",
       "       'radius_se', 'texture_se', 'perimeter_se', 'area_se', 'smoothness_se',\n",
       "       'compactness_se', 'concavity_se', 'concave points_se', 'symmetry_se',\n",
       "       'fractal_dimension_se', 'radius_worst', 'texture_worst',\n",
       "       'perimeter_worst', 'area_worst', 'smoothness_worst',\n",
       "       'compactness_worst', 'concavity_worst', 'concave points_worst',\n",
       "       'symmetry_worst', 'fractal_dimension_worst'],\n",
       "      dtype='object')"
      ]
     },
     "execution_count": 20,
     "metadata": {},
     "output_type": "execute_result"
    }
   ],
   "source": [
    "data.columns"
   ]
  },
  {
   "cell_type": "code",
   "execution_count": 21,
   "metadata": {},
   "outputs": [
    {
     "data": {
      "text/plain": [
       "['texture_mean',\n",
       " 'perimeter_mean',\n",
       " 'smoothness_mean',\n",
       " 'concave points_mean',\n",
       " 'symmetry_mean',\n",
       " 'fractal_dimension_mean']"
      ]
     },
     "execution_count": 21,
     "metadata": {},
     "output_type": "execute_result"
    }
   ],
   "source": [
    "prediction_var = ['texture_mean', 'perimeter_mean', 'smoothness_mean', \n",
    "                  'concave points_mean', 'symmetry_mean', 'fractal_dimension_mean']\n",
    "prediction_var"
   ]
  },
  {
   "cell_type": "code",
   "execution_count": 22,
   "metadata": {},
   "outputs": [
    {
     "name": "stdout",
     "output_type": "stream",
     "text": [
      "train shape is  (398, 31)\n",
      "test shape is  (171, 31)\n"
     ]
    }
   ],
   "source": [
    "train, test = train_test_split(data, test_size=0.3, random_state=5)\n",
    "print(\"train shape is \", train.shape)\n",
    "print(\"test shape is \", test.shape)"
   ]
  },
  {
   "cell_type": "code",
   "execution_count": 23,
   "metadata": {},
   "outputs": [],
   "source": [
    "train_x = train[prediction_var]\n",
    "test_x = test[prediction_var]\n",
    "train_y=train['diagnosis']\n",
    "test_y=test['diagnosis']"
   ]
  },
  {
   "cell_type": "code",
   "execution_count": 24,
   "metadata": {},
   "outputs": [
    {
     "name": "stdout",
     "output_type": "stream",
     "text": [
      "shape of train_x is  (398, 6)\n",
      "shape of train_y is  (398,)\n",
      "shape of test_x is  (171, 6)\n",
      "shape of test_y is  (171,)\n"
     ]
    }
   ],
   "source": [
    "print(\"shape of train_x is \", train_x.shape)\n",
    "print(\"shape of train_y is \", train_y.shape)\n",
    "print(\"shape of test_x is \", test_x.shape)\n",
    "print(\"shape of test_y is \", test_y.shape)"
   ]
  },
  {
   "cell_type": "code",
   "execution_count": 25,
   "metadata": {},
   "outputs": [
    {
     "name": "stdout",
     "output_type": "stream",
     "text": [
      "accuracy score of the model is  0.935672514619883\n"
     ]
    }
   ],
   "source": [
    "model=LogisticRegression()\n",
    "model.fit(train_x, train_y)\n",
    "pv = model.predict(test_x)\n",
    "print(\"accuracy score of the model is \", accuracy_score(test_y, pv))"
   ]
  },
  {
   "cell_type": "code",
   "execution_count": null,
   "metadata": {},
   "outputs": [],
   "source": [
    "import numpy\n",
    "import pandas as pd\n",
    "from sklearn.linear_model import LogisticRegression\n",
    "from sklearn.metrics import accuracy_score\n",
    "import seaborn as sns\n",
    "from sklearn.model_selection import train_test_split\n",
    "\n",
    " \n",
    "\n",
    "wine=pd.read_csv('C:\\\\Users\\\\walia\\\\Downloads\\\\wine.csv')\n",
    "wine.head(2)\n",
    "wine.columns\n",
    "#wine['                        Flavanoids','Nonflavanoid_phenols             ','customer_segment                                 ' ] = wine['                        Flavanoids','Nonflavanoid_phenols             ','customer_segment                                 ' ].map(lambda x: x.strip())\n",
    "wine.rename(columns={\"                        Flavanoids\": \"Flavanoids\", \"Nonflavanoid_phenols             \": \"Nonflavanoid_phenols\", \"customer_segment                                 \": \"customer_segment\"},inplace= True)\n",
    "wine.columns\n",
    "wine.head()\n",
    "wine.dropna(inplace=True)\n",
    "wine['Nonflavanoid_phenols']=wine['Nonflavanoid_phenols'].replace('[%,]', '', regex=True).astype(float)\n",
    "wine['Magnesium']=wine['Magnesium'].replace('[\\$,]', '', regex=True).astype(float)\n",
    "wine.Magnesium\n",
    "wine['customer_segment']= wine['customer_segment'].str.upper()\n",
    "wine['customer_segment']=wine['customer_segment'].map({'ONE':1,'2':2,'THREE':3})\n",
    "wine['customer_segment'].unique()\n",
    "wine\n",
    "import matplotlib.pyplot as plt\n",
    "sns.countplot(wine['customer_segment'], label='count')\n",
    "plt.show()\n",
    "feature = list(wine.columns[1:14])\n",
    "feature\n",
    "corr=wine[feature].corr()\n",
    "corr\n",
    "\n",
    " \n",
    "\n",
    "sns.heatmap(corr, cbar=True, square=True)\n",
    "plt.show()\n",
    "\n",
    " \n",
    "\n",
    "wine.columns\n",
    "prediction_var = ['Alcohol', 'Malic acid', 'Ash', 'Alcalinity', 'Magnesium',\n",
    "       'Flavanoids', 'Nonflavanoid_phenols', 'Proanthocyanins',\n",
    "       'Color_intensity', 'Hue', 'OD280', 'Proline', 'customer_segment']\n",
    "prediction_var\n",
    "wine\n",
    "train, test = train_test_split(wine, test_size=0.3, random_state=5)\n",
    "print(\"train shape is \", train.shape)\n",
    "print(\"test shape is \", test.shape)\n",
    "train_x = train[prediction_var]\n",
    "test_x = test[prediction_var]\n",
    "train_y=train['customer_segment']\n",
    "test_y=test['customer_segment']\n",
    "print(\"shape of train_x is \", train_x.shape)\n",
    "print(\"shape of train_y is \", train_y.shape)\n",
    "print(\"shape of test_x is \", test_x.shape)\n",
    "print(\"shape of test_y is \", test_y.shape)\n",
    "model=LogisticRegression(solver='newton-cg')\n",
    "model.fit(train_x, train_y)\n",
    "pv = model.predict(test_x)\n",
    "print(\"accuracy score of the model is \", accuracy_score(test_y, pv))"
   ]
  }
 ],
 "metadata": {
  "kernelspec": {
   "display_name": "Python 3",
   "language": "python",
   "name": "python3"
  },
  "language_info": {
   "codemirror_mode": {
    "name": "ipython",
    "version": 3
   },
   "file_extension": ".py",
   "mimetype": "text/x-python",
   "name": "python",
   "nbconvert_exporter": "python",
   "pygments_lexer": "ipython3",
   "version": "3.7.6"
  }
 },
 "nbformat": 4,
 "nbformat_minor": 4
}
