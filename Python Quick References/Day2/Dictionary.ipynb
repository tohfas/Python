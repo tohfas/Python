{
 "cells": [
  {
   "cell_type": "code",
   "execution_count": 2,
   "metadata": {},
   "outputs": [
    {
     "name": "stdout",
     "output_type": "stream",
     "text": [
      "key4\n",
      "value7\n"
     ]
    },
    {
     "data": {
      "text/plain": [
       "{'4': '7'}"
      ]
     },
     "execution_count": 2,
     "metadata": {},
     "output_type": "execute_result"
    }
   ],
   "source": [
    "#Dictionary\n",
    "#Add a Key-Value Pair to the Dictionary\n",
    "d={}\n",
    "k=input(\"key\")\n",
    "v=input(\"value\")\n",
    "d.update({k:v})\n",
    "d"
   ]
  },
  {
   "cell_type": "code",
   "execution_count": 5,
   "metadata": {},
   "outputs": [
    {
     "name": "stdout",
     "output_type": "stream",
     "text": [
      "key12\n",
      "value13\n",
      "key25\n",
      "value26\n"
     ]
    },
    {
     "data": {
      "text/plain": [
       "{'2': '3', '5': '6'}"
      ]
     },
     "execution_count": 5,
     "metadata": {},
     "output_type": "execute_result"
    }
   ],
   "source": [
    "#Concatenate Two Dictionaries Into One\n",
    "d1={}\n",
    "k1=input(\"key1\")\n",
    "v1=input(\"value1\")\n",
    "d1.update({k1:v1})\n",
    "d2={}\n",
    "k2=input(\"key2\")\n",
    "v2=input(\"value2\")\n",
    "d2.update({k2:v2})\n",
    "d1.update(d2)\n",
    "d1"
   ]
  },
  {
   "cell_type": "code",
   "execution_count": 16,
   "metadata": {},
   "outputs": [
    {
     "name": "stdout",
     "output_type": "stream",
     "text": [
      "Enter key to check:A\n",
      "A Present\n",
      "value of the A is 1\n"
     ]
    }
   ],
   "source": [
    "#Check if a Given Key Exists in a Dictionary or Not\n",
    "d={'A':1,'B':2,'C':3}\n",
    "keys=input(\"Enter key to check:\")\n",
    "if keys in d.keys():\n",
    "    print(keys, \"Present\")\n",
    "    print(\"value of the\", keys, \"is\", d[keys])\n",
    "else:\n",
    "    print(\"Key is not present\")"
   ]
  },
  {
   "cell_type": "code",
   "execution_count": 22,
   "metadata": {},
   "outputs": [
    {
     "name": "stdout",
     "output_type": "stream",
     "text": [
      "Enter a number 5\n",
      "{1: 1, 2: 4, 3: 9, 4: 16, 5: 25}\n"
     ]
    }
   ],
   "source": [
    "#Generate a Dictionary that Contains Numbers (between 1 and n) in the Form (x,x*x).\n",
    "'''Steps\n",
    "1. Take a number from the user and store it in a separate variable.\n",
    "2. Declare a dictionary and using dictionary comprehension initialize it to values keeping the number between 1 to n as the key and the square of the number as their values.\n",
    "3. Print the final dictionary.\n",
    "4. Exit.\n",
    "\n",
    "'''\n",
    "\n",
    "n=int(input(\"Enter a number \"))\n",
    "d={x:x*x for x in range(1,n+1)}\n",
    "print(d)"
   ]
  },
  {
   "cell_type": "code",
   "execution_count": 34,
   "metadata": {},
   "outputs": [
    {
     "name": "stdout",
     "output_type": "stream",
     "text": [
      "Total sum of values in the dictionary:\n"
     ]
    },
    {
     "ename": "TypeError",
     "evalue": "'int' object is not callable",
     "output_type": "error",
     "traceback": [
      "\u001b[1;31m---------------------------------------------------------------------------\u001b[0m",
      "\u001b[1;31mTypeError\u001b[0m                                 Traceback (most recent call last)",
      "\u001b[1;32m<ipython-input-34-a6e4ebebf36e>\u001b[0m in \u001b[0;36m<module>\u001b[1;34m\u001b[0m\n\u001b[0;32m      9\u001b[0m \u001b[0ms\u001b[0m\u001b[1;33m=\u001b[0m\u001b[1;36m0\u001b[0m\u001b[1;33m\u001b[0m\u001b[1;33m\u001b[0m\u001b[0m\n\u001b[0;32m     10\u001b[0m \u001b[0mprint\u001b[0m\u001b[1;33m(\u001b[0m\u001b[1;34m\"Total sum of values in the dictionary:\"\u001b[0m\u001b[1;33m)\u001b[0m\u001b[1;33m\u001b[0m\u001b[1;33m\u001b[0m\u001b[0m\n\u001b[1;32m---> 11\u001b[1;33m \u001b[0ms\u001b[0m\u001b[1;33m=\u001b[0m\u001b[0msum\u001b[0m\u001b[1;33m(\u001b[0m\u001b[0md\u001b[0m\u001b[1;33m.\u001b[0m\u001b[0mvalues\u001b[0m\u001b[1;33m(\u001b[0m\u001b[1;33m)\u001b[0m\u001b[1;33m)\u001b[0m\u001b[1;33m\u001b[0m\u001b[1;33m\u001b[0m\u001b[0m\n\u001b[0m\u001b[0;32m     12\u001b[0m \u001b[0ms\u001b[0m\u001b[1;33m\u001b[0m\u001b[1;33m\u001b[0m\u001b[0m\n",
      "\u001b[1;31mTypeError\u001b[0m: 'int' object is not callable"
     ]
    }
   ],
   "source": [
    "# Sum All the Items in a Dictionary\n",
    "'''steps\n",
    "1. Declare and initialize a dictionary to have some key-value pairs.\n",
    "2. Find the sum of all the values in the dictionary.\n",
    "3. Print the total sum.\n",
    "4. Exit.\n",
    "'''\n",
    "d={'A':100,'B':540,'C':239}\n",
    "s=0\n",
    "print(\"Total sum of values in the dictionary:\")\n",
    "s=sum(d.values())\n",
    "s"
   ]
  },
  {
   "cell_type": "code",
   "execution_count": 35,
   "metadata": {},
   "outputs": [
    {
     "name": "stdout",
     "output_type": "stream",
     "text": [
      "6\n"
     ]
    }
   ],
   "source": [
    "#Multiply All the Items in a Dictionary\n",
    "d={'A':1,'B':2,'C':3}\n",
    "mul=1\n",
    "for i in d:\n",
    "    mul=mul*d[i]\n",
    "print(mul)"
   ]
  },
  {
   "cell_type": "code",
   "execution_count": 37,
   "metadata": {},
   "outputs": [
    {
     "name": "stdout",
     "output_type": "stream",
     "text": [
      "Initial dictionary\n",
      "{'a': 1, 'b': 2, 'c': 3, 'd': 4}\n",
      "Enter the key to delete(a-d):b\n",
      "Updated dictionary\n",
      "{'a': 1, 'c': 3, 'd': 4}\n"
     ]
    }
   ],
   "source": [
    "#Remove the Given Key from a Dictionary\n",
    "d = {'a':1,'b':2,'c':3,'d':4}\n",
    "print(\"Initial dictionary\")\n",
    "print(d)\n",
    "key=input(\"Enter the key to delete(a-d):\")\n",
    "if key in d: \n",
    "    del d[key]\n",
    "else:\n",
    "    print(\"Key not found!\")\n",
    "    exit(0)\n",
    "print(\"Updated dictionary\")\n",
    "print(d)"
   ]
  },
  {
   "cell_type": "code",
   "execution_count": 38,
   "metadata": {},
   "outputs": [
    {
     "name": "stdout",
     "output_type": "stream",
     "text": [
      "{'A': 1, 'B': 2}\n"
     ]
    }
   ],
   "source": [
    "#to Form a Dictionary from an Object of a Class\n",
    "'''Steps\n",
    "1. Declare a class named A.\n",
    "2. Initialize the keys with their values in the __init__ method of the class and form a dictionary using the __dict__ method.\n",
    "3. Print the dictionary formed from the object of the class.\n",
    "4. Exit.\n",
    "'''\n",
    "class A(object):  \n",
    "     def __init__(self):  \n",
    "         self.A=1  \n",
    "         self.B=2  \n",
    "obj=A()  \n",
    "print(obj.__dict__)"
   ]
  },
  {
   "cell_type": "code",
   "execution_count": 39,
   "metadata": {},
   "outputs": [
    {
     "name": "stdout",
     "output_type": "stream",
     "text": [
      "Enter number of elements for dictionary:4\n",
      "For keys:\n",
      "Enter element1:5\n",
      "Enter element2:6\n",
      "Enter element3:7\n",
      "Enter element4:8\n",
      "For values:\n",
      "Enter element1:9\n",
      "Enter element2:8\n",
      "Enter element3:8\n",
      "Enter element4:5\n",
      "The dictionary is:\n",
      "{5: 9, 6: 8, 7: 8, 8: 5}\n"
     ]
    }
   ],
   "source": [
    "#to Map Two Lists into a Dictionary\n",
    "'''Steps\n",
    "1. Declare two empty lists and initialize them to an empty list.\n",
    "3. Consider a for loop to accept values for the two lists.\n",
    "4. Take the number of elements in the list and store it in a variable.\n",
    "5. Accept the values into the list using another for loop and insert into the list.\n",
    "6. Repeat 4 and 5 for the values list also.\n",
    "7. Zip the two lists and use dict() to convert it into a dictionary.\n",
    "8. Print the dictionary.\n",
    "9. Exit.'''\n",
    "keys=[]\n",
    "values=[]\n",
    "n=int(input(\"Enter number of elements for dictionary:\"))\n",
    "print(\"For keys:\")\n",
    "for x in range(0,n):\n",
    "    element=int(input(\"Enter element\" + str(x+1) + \":\"))\n",
    "    keys.append(element)\n",
    "print(\"For values:\")\n",
    "for x in range(0,n):\n",
    "    element=int(input(\"Enter element\" + str(x+1) + \":\"))\n",
    "    values.append(element)\n",
    "d=dict(zip(keys,values))\n",
    "print(\"The dictionary is:\")\n",
    "print(d)\n"
   ]
  },
  {
   "cell_type": "code",
   "execution_count": 46,
   "metadata": {},
   "outputs": [
    {
     "name": "stdout",
     "output_type": "stream",
     "text": [
      "Enter the stringIt is a good place but that place is also good\n",
      "{'It': 1, 'is': 2, 'a': 1, 'good': 2, 'place': 2, 'but': 1, 'that': 1, 'also': 1}\n"
     ]
    }
   ],
   "source": [
    "#to Count the Frequency of Words Appearing in a String Using a Dictionary\n",
    "n=input(\"Enter the string\")\n",
    "d=[]\n",
    "d=n.split()\n",
    "freq=[d.count(p) for p in d]\n",
    "print(dict(zip(d,freq)))\n",
    "\n"
   ]
  },
  {
   "cell_type": "code",
   "execution_count": 45,
   "metadata": {},
   "outputs": [
    {
     "name": "stdout",
     "output_type": "stream",
     "text": [
      "Enter string:It is a good place but that place is also good\n",
      "{'It': 1, 'is': 2, 'a': 1, 'good': 2, 'place': 2, 'but': 1, 'that': 1, 'also': 1}\n"
     ]
    }
   ],
   "source": [
    "test_string=input(\"Enter string:\")\n",
    "l=[]\n",
    "l=test_string.split()\n",
    "wordfreq=[l.count(p) for p in l]\n",
    "print(dict(zip(l,wordfreq)))"
   ]
  },
  {
   "cell_type": "code",
   "execution_count": 48,
   "metadata": {},
   "outputs": [
    {
     "name": "stdout",
     "output_type": "stream",
     "text": [
      "Enter string:I m a girl\n",
      "I : ['I']\n",
      "m : ['m']\n",
      "a : ['a']\n",
      "g : ['girl']\n"
     ]
    }
   ],
   "source": [
    "#to Create a Dictionary with Key as First Character and Value as Words Starting with that Character\n",
    "'''Steps\n",
    "1. Enter a string and store it in a variable.\n",
    "2. Declare an empty dictionary.\n",
    "3. Split the string into words and store it in a list.\n",
    "4. Using a for loop and if statement check if the word already present as a key in the dictionary.\n",
    "5. If it is not present, initialize the letter of the word as the key and the word as the value and append it to a sublist created in the list.\n",
    "6. If it is present, add the word as the value to the corresponding sublist.\n",
    "7. Print the final dictionary.\n",
    "8. Exit.\n",
    "'''\n",
    "test_string=input(\"Enter string:\")\n",
    "l=test_string.split()\n",
    "d={}\n",
    "for word in l:\n",
    "    if(word[0] not in d.keys()):\n",
    "        d[word[0]]=[]\n",
    "        d[word[0]].append(word)\n",
    "    else:\n",
    "        if(word not in d[word[0]]):\n",
    "          d[word[0]].append(word)\n",
    "for k,v in d.items():\n",
    "        print(k,\":\",v)\n",
    "    "
   ]
  },
  {
   "cell_type": "code",
   "execution_count": null,
   "metadata": {},
   "outputs": [],
   "source": []
  }
 ],
 "metadata": {
  "kernelspec": {
   "display_name": "Python 3",
   "language": "python",
   "name": "python3"
  },
  "language_info": {
   "codemirror_mode": {
    "name": "ipython",
    "version": 3
   },
   "file_extension": ".py",
   "mimetype": "text/x-python",
   "name": "python",
   "nbconvert_exporter": "python",
   "pygments_lexer": "ipython3",
   "version": "3.8.3"
  }
 },
 "nbformat": 4,
 "nbformat_minor": 4
}
