{
 "cells": [
  {
   "cell_type": "code",
   "execution_count": 3,
   "metadata": {},
   "outputs": [
    {
     "name": "stdout",
     "output_type": "stream",
     "text": [
      "Please enter the place for which you need to know th attraction : Delhi\n",
      "attraction is  Red Fort\n",
      "Capital letters of attraction are  RF\n"
     ]
    }
   ],
   "source": [
    "places = ['Delhi','Mumbai','Chennai', 'Jaipur']\n",
    "attractions = ['Red Fort', 'Gateway of India', 'Marina Beach', 'Ameer Fort']\n",
    "flag, ans=0,\"\"\n",
    "\n",
    "p = input(\"Please enter the place for which you need to know th attraction : \")\n",
    "for i in range(len(places)):\n",
    "    if p.upper() == places[i].upper():\n",
    "        print(\"attraction is \", attractions[i])\n",
    "        for x in attractions[i]:\n",
    "            if x.isupper():\n",
    "                ans+=x\n",
    "        print(\"Capital letters of attraction are \", ans)\n",
    "        flag=1\n",
    "if flag==0:\n",
    "    print(\"sorry I dont know the attraction for \", p)\n",
    "    "
   ]
  },
  {
   "cell_type": "code",
   "execution_count": 5,
   "metadata": {},
   "outputs": [
    {
     "name": "stdout",
     "output_type": "stream",
     "text": [
      "Please enter the first number : 10\n",
      "Please enter the second number : 20\n",
      "sum of numbers is  30\n",
      "Please enter the first number : 1\n",
      "Please enter the second number : 2\n",
      "sum of numbers is  3\n",
      "Please enter the first number : 33\n",
      "Please enter the second number : 22\n",
      "sum of numbers is  55\n"
     ]
    }
   ],
   "source": [
    "#this function is neither taking any arguments nor returning any value\n",
    "def sumall():\n",
    "    num1=int(input(\"Please enter the first number : \"))\n",
    "    num2=int(input(\"Please enter the second number : \"))\n",
    "    ans=num1+num2\n",
    "    print(\"sum of numbers is \", ans)\n",
    "    \n",
    "sumall()\n",
    "sumall()\n",
    "sumall()"
   ]
  },
  {
   "cell_type": "code",
   "execution_count": 1,
   "metadata": {},
   "outputs": [
    {
     "name": "stdout",
     "output_type": "stream",
     "text": [
      "Please enter the first number : 10\n",
      "Please enter the second number : 20\n",
      "sum of numbers is  30\n"
     ]
    },
    {
     "ename": "NameError",
     "evalue": "name 'x' is not defined",
     "output_type": "error",
     "traceback": [
      "\u001b[1;31m---------------------------------------------------------------------------\u001b[0m",
      "\u001b[1;31mNameError\u001b[0m                                 Traceback (most recent call last)",
      "\u001b[1;32m<ipython-input-1-7ed4d80d6e5c>\u001b[0m in \u001b[0;36m<module>\u001b[1;34m\u001b[0m\n\u001b[0;32m      6\u001b[0m \u001b[0mnum2\u001b[0m\u001b[1;33m=\u001b[0m\u001b[0mint\u001b[0m\u001b[1;33m(\u001b[0m\u001b[0minput\u001b[0m\u001b[1;33m(\u001b[0m\u001b[1;34m\"Please enter the second number : \"\u001b[0m\u001b[1;33m)\u001b[0m\u001b[1;33m)\u001b[0m\u001b[1;33m\u001b[0m\u001b[1;33m\u001b[0m\u001b[0m\n\u001b[0;32m      7\u001b[0m \u001b[0msumall\u001b[0m\u001b[1;33m(\u001b[0m\u001b[0mnum1\u001b[0m\u001b[1;33m,\u001b[0m \u001b[0mnum2\u001b[0m\u001b[1;33m)\u001b[0m\u001b[1;33m\u001b[0m\u001b[1;33m\u001b[0m\u001b[0m\n\u001b[1;32m----> 8\u001b[1;33m \u001b[0mprint\u001b[0m\u001b[1;33m(\u001b[0m\u001b[0mx\u001b[0m\u001b[1;33m)\u001b[0m\u001b[1;33m\u001b[0m\u001b[1;33m\u001b[0m\u001b[0m\n\u001b[0m",
      "\u001b[1;31mNameError\u001b[0m: name 'x' is not defined"
     ]
    }
   ],
   "source": [
    "def sumall(x,y): # all the variables in a function are local in nature, they are not visible outside the function\n",
    "    ans=x+y\n",
    "    print(\"sum of numbers is \", ans)\n",
    "  \n",
    "num1=int(input(\"Please enter the first number : \"))\n",
    "num2=int(input(\"Please enter the second number : \"))\n",
    "sumall(num1, num2)\n",
    "print(x)"
   ]
  },
  {
   "cell_type": "code",
   "execution_count": 2,
   "metadata": {},
   "outputs": [
    {
     "name": "stdout",
     "output_type": "stream",
     "text": [
      "Please enter the first number : 10\n",
      "Please enter the second number : 20\n",
      "sum of numbers is  30\n"
     ]
    }
   ],
   "source": [
    "# if i want to see the the variable of a function in a main program we need to return to main\n",
    "\n",
    "def sumall(x,y): # all the variables in a function are local in nature, they are not visible outside the function\n",
    "    ans=x+y\n",
    "    return ans\n",
    "  \n",
    "num1=int(input(\"Please enter the first number : \"))\n",
    "num2=int(input(\"Please enter the second number : \"))\n",
    "solution=sumall(num1, num2)\n",
    "print(\"sum of numbers is \", solution)"
   ]
  },
  {
   "cell_type": "code",
   "execution_count": 3,
   "metadata": {},
   "outputs": [
    {
     "name": "stdout",
     "output_type": "stream",
     "text": [
      "Please enter the first number : 10\n",
      "Please enter the second number : 20\n"
     ]
    },
    {
     "ename": "TypeError",
     "evalue": "sumall() takes 2 positional arguments but 3 were given",
     "output_type": "error",
     "traceback": [
      "\u001b[1;31m---------------------------------------------------------------------------\u001b[0m",
      "\u001b[1;31mTypeError\u001b[0m                                 Traceback (most recent call last)",
      "\u001b[1;32m<ipython-input-3-395b63daa436>\u001b[0m in \u001b[0;36m<module>\u001b[1;34m\u001b[0m\n\u001b[0;32m      6\u001b[0m \u001b[0mnum2\u001b[0m\u001b[1;33m=\u001b[0m\u001b[0mint\u001b[0m\u001b[1;33m(\u001b[0m\u001b[0minput\u001b[0m\u001b[1;33m(\u001b[0m\u001b[1;34m\"Please enter the second number : \"\u001b[0m\u001b[1;33m)\u001b[0m\u001b[1;33m)\u001b[0m\u001b[1;33m\u001b[0m\u001b[1;33m\u001b[0m\u001b[0m\n\u001b[0;32m      7\u001b[0m \u001b[0mnum3\u001b[0m\u001b[1;33m=\u001b[0m\u001b[1;36m100\u001b[0m\u001b[1;33m\u001b[0m\u001b[1;33m\u001b[0m\u001b[0m\n\u001b[1;32m----> 8\u001b[1;33m \u001b[0msolution\u001b[0m\u001b[1;33m=\u001b[0m\u001b[0msumall\u001b[0m\u001b[1;33m(\u001b[0m\u001b[0mnum1\u001b[0m\u001b[1;33m,\u001b[0m \u001b[0mnum2\u001b[0m\u001b[1;33m,\u001b[0m\u001b[0mnum3\u001b[0m\u001b[1;33m)\u001b[0m\u001b[1;33m\u001b[0m\u001b[1;33m\u001b[0m\u001b[0m\n\u001b[0m\u001b[0;32m      9\u001b[0m \u001b[0mprint\u001b[0m\u001b[1;33m(\u001b[0m\u001b[1;34m\"sum of numbers is \"\u001b[0m\u001b[1;33m,\u001b[0m \u001b[0msolution\u001b[0m\u001b[1;33m)\u001b[0m\u001b[1;33m\u001b[0m\u001b[1;33m\u001b[0m\u001b[0m\n",
      "\u001b[1;31mTypeError\u001b[0m: sumall() takes 2 positional arguments but 3 were given"
     ]
    }
   ],
   "source": [
    "def sumall(x,y): # all the variables in a function are local in nature, they are not visible outside the function\n",
    "    ans=x+y\n",
    "    return ans\n",
    "  \n",
    "num1=int(input(\"Please enter the first number : \"))\n",
    "num2=int(input(\"Please enter the second number : \"))\n",
    "num3=100\n",
    "solution=sumall(num1, num2,num3)\n",
    "print(\"sum of numbers is \", solution)"
   ]
  },
  {
   "cell_type": "code",
   "execution_count": 4,
   "metadata": {},
   "outputs": [
    {
     "name": "stdout",
     "output_type": "stream",
     "text": [
      "Please enter the first number : 10\n",
      "Please enter the second number : 20\n"
     ]
    },
    {
     "ename": "TypeError",
     "evalue": "sumall() missing 1 required positional argument: 'z'",
     "output_type": "error",
     "traceback": [
      "\u001b[1;31m---------------------------------------------------------------------------\u001b[0m",
      "\u001b[1;31mTypeError\u001b[0m                                 Traceback (most recent call last)",
      "\u001b[1;32m<ipython-input-4-a883fb262934>\u001b[0m in \u001b[0;36m<module>\u001b[1;34m\u001b[0m\n\u001b[0;32m      5\u001b[0m \u001b[0mnum1\u001b[0m\u001b[1;33m=\u001b[0m\u001b[0mint\u001b[0m\u001b[1;33m(\u001b[0m\u001b[0minput\u001b[0m\u001b[1;33m(\u001b[0m\u001b[1;34m\"Please enter the first number : \"\u001b[0m\u001b[1;33m)\u001b[0m\u001b[1;33m)\u001b[0m\u001b[1;33m\u001b[0m\u001b[1;33m\u001b[0m\u001b[0m\n\u001b[0;32m      6\u001b[0m \u001b[0mnum2\u001b[0m\u001b[1;33m=\u001b[0m\u001b[0mint\u001b[0m\u001b[1;33m(\u001b[0m\u001b[0minput\u001b[0m\u001b[1;33m(\u001b[0m\u001b[1;34m\"Please enter the second number : \"\u001b[0m\u001b[1;33m)\u001b[0m\u001b[1;33m)\u001b[0m\u001b[1;33m\u001b[0m\u001b[1;33m\u001b[0m\u001b[0m\n\u001b[1;32m----> 7\u001b[1;33m \u001b[0msolution\u001b[0m\u001b[1;33m=\u001b[0m\u001b[0msumall\u001b[0m\u001b[1;33m(\u001b[0m\u001b[0mnum1\u001b[0m\u001b[1;33m,\u001b[0m \u001b[0mnum2\u001b[0m\u001b[1;33m)\u001b[0m\u001b[1;33m\u001b[0m\u001b[1;33m\u001b[0m\u001b[0m\n\u001b[0m\u001b[0;32m      8\u001b[0m \u001b[0mprint\u001b[0m\u001b[1;33m(\u001b[0m\u001b[1;34m\"sum of numbers is \"\u001b[0m\u001b[1;33m,\u001b[0m \u001b[0msolution\u001b[0m\u001b[1;33m)\u001b[0m\u001b[1;33m\u001b[0m\u001b[1;33m\u001b[0m\u001b[0m\n",
      "\u001b[1;31mTypeError\u001b[0m: sumall() missing 1 required positional argument: 'z'"
     ]
    }
   ],
   "source": [
    "def sumall(x,y,z): # all the variables in a function are local in nature, they are not visible outside the function\n",
    "    ans=x+y\n",
    "    return ans\n",
    "  \n",
    "num1=int(input(\"Please enter the first number : \"))\n",
    "num2=int(input(\"Please enter the second number : \"))\n",
    "solution=sumall(num1, num2)\n",
    "print(\"sum of numbers is \", solution)"
   ]
  },
  {
   "cell_type": "code",
   "execution_count": 6,
   "metadata": {},
   "outputs": [
    {
     "name": "stdout",
     "output_type": "stream",
     "text": [
      "Enter the radius3\n",
      "radius is  3\n",
      "Area is 28.274333882308138\n",
      "Perimeter is 18.84955592153876\n"
     ]
    }
   ],
   "source": [
    "# write a program to have 3 functions which returns radius, permeter and area of a circle\n",
    "# input_radius function should take input from user and return to main\n",
    "# perimeter function should return perimeter to main\n",
    "# area function should return area to main\n",
    "\n",
    "from math import pi\n",
    "\n",
    "def radius():\n",
    "    return (int(input('Enter the radius')))\n",
    "def area(r):\n",
    "    return (pi*r*r)\n",
    "def perimeter(r):\n",
    "    return(2*pi*r)\n",
    "   \n",
    "r=radius()\n",
    "print(\"radius is \", r)\n",
    "print('Area is',area(r))\n",
    "print('Perimeter is',perimeter(r))"
   ]
  },
  {
   "cell_type": "code",
   "execution_count": 7,
   "metadata": {},
   "outputs": [
    {
     "name": "stdout",
     "output_type": "stream",
     "text": [
      "sum of numbers is  60\n",
      "sum of numbers is  23\n",
      "sum of numbers is  130\n"
     ]
    }
   ],
   "source": [
    "# default variables - those which takes there value when we do not pass anything from main\n",
    "# default variables have to be in the last and not in the beginning or middle\n",
    "\n",
    "def sumall(a,b=10,c=20):\n",
    "    return a+b+c\n",
    "\n",
    "print(\"sum of numbers is \", sumall(10,20,30))\n",
    "print(\"sum of numbers is \", sumall(1,2))\n",
    "print(\"sum of numbers is \", sumall(100))"
   ]
  },
  {
   "cell_type": "code",
   "execution_count": 9,
   "metadata": {},
   "outputs": [
    {
     "name": "stdout",
     "output_type": "stream",
     "text": [
      "sum of numbers is  60\n"
     ]
    }
   ],
   "source": [
    "def fun(a,b,c):\n",
    "    print(\"sum of numbers is \", a+b+c)\n",
    "    \n",
    "fun(10,20,30)"
   ]
  },
  {
   "cell_type": "code",
   "execution_count": 10,
   "metadata": {},
   "outputs": [
    {
     "ename": "TypeError",
     "evalue": "fun() missing 1 required positional argument: 'c'",
     "output_type": "error",
     "traceback": [
      "\u001b[1;31m---------------------------------------------------------------------------\u001b[0m",
      "\u001b[1;31mTypeError\u001b[0m                                 Traceback (most recent call last)",
      "\u001b[1;32m<ipython-input-10-2de709eaa325>\u001b[0m in \u001b[0;36m<module>\u001b[1;34m\u001b[0m\n\u001b[0;32m      2\u001b[0m     \u001b[0mprint\u001b[0m\u001b[1;33m(\u001b[0m\u001b[1;34m\"sum of numbers is \"\u001b[0m\u001b[1;33m,\u001b[0m \u001b[0ma\u001b[0m\u001b[1;33m+\u001b[0m\u001b[0mb\u001b[0m\u001b[1;33m+\u001b[0m\u001b[0mc\u001b[0m\u001b[1;33m)\u001b[0m\u001b[1;33m\u001b[0m\u001b[1;33m\u001b[0m\u001b[0m\n\u001b[0;32m      3\u001b[0m \u001b[1;33m\u001b[0m\u001b[0m\n\u001b[1;32m----> 4\u001b[1;33m \u001b[0mfun\u001b[0m\u001b[1;33m(\u001b[0m\u001b[1;36m10\u001b[0m\u001b[1;33m,\u001b[0m\u001b[1;36m20\u001b[0m\u001b[1;33m)\u001b[0m\u001b[1;33m\u001b[0m\u001b[1;33m\u001b[0m\u001b[0m\n\u001b[0m",
      "\u001b[1;31mTypeError\u001b[0m: fun() missing 1 required positional argument: 'c'"
     ]
    }
   ],
   "source": [
    "def fun(a,b,c):\n",
    "    print(\"sum of numbers is \", a+b+c)\n",
    "    \n",
    "fun(10,20)"
   ]
  },
  {
   "cell_type": "code",
   "execution_count": 11,
   "metadata": {},
   "outputs": [
    {
     "ename": "TypeError",
     "evalue": "fun() missing 2 required positional arguments: 'b' and 'c'",
     "output_type": "error",
     "traceback": [
      "\u001b[1;31m---------------------------------------------------------------------------\u001b[0m",
      "\u001b[1;31mTypeError\u001b[0m                                 Traceback (most recent call last)",
      "\u001b[1;32m<ipython-input-11-1f5f54629602>\u001b[0m in \u001b[0;36m<module>\u001b[1;34m\u001b[0m\n\u001b[0;32m      3\u001b[0m \u001b[1;33m\u001b[0m\u001b[0m\n\u001b[0;32m      4\u001b[0m \u001b[0mlist1\u001b[0m\u001b[1;33m=\u001b[0m\u001b[1;33m[\u001b[0m\u001b[1;36m10\u001b[0m\u001b[1;33m,\u001b[0m\u001b[1;36m20\u001b[0m\u001b[1;33m,\u001b[0m\u001b[1;36m30\u001b[0m\u001b[1;33m]\u001b[0m\u001b[1;33m\u001b[0m\u001b[1;33m\u001b[0m\u001b[0m\n\u001b[1;32m----> 5\u001b[1;33m \u001b[0mfun\u001b[0m\u001b[1;33m(\u001b[0m\u001b[0mlist1\u001b[0m\u001b[1;33m)\u001b[0m\u001b[1;33m\u001b[0m\u001b[1;33m\u001b[0m\u001b[0m\n\u001b[0m",
      "\u001b[1;31mTypeError\u001b[0m: fun() missing 2 required positional arguments: 'b' and 'c'"
     ]
    }
   ],
   "source": [
    "def fun(a,b,c):\n",
    "    print(\"sum of numbers is \", a+b+c)\n",
    "  \n",
    "list1=[10,20,30]\n",
    "fun(list1)"
   ]
  },
  {
   "cell_type": "code",
   "execution_count": 12,
   "metadata": {},
   "outputs": [
    {
     "name": "stdout",
     "output_type": "stream",
     "text": [
      "a is  10\n",
      "b is  20\n",
      "c is  30\n",
      "sum of numbers is  60\n"
     ]
    }
   ],
   "source": [
    "def fun(a,b,c):\n",
    "    print(\"a is \", a)\n",
    "    print(\"b is \", b)\n",
    "    print(\"c is \", c)\n",
    "    print(\"sum of numbers is \", a+b+c)\n",
    "  \n",
    "list1=[10,20,30]\n",
    "fun(*list1) #the list get exploaded and individual elements will go"
   ]
  },
  {
   "cell_type": "code",
   "execution_count": 13,
   "metadata": {},
   "outputs": [
    {
     "name": "stdout",
     "output_type": "stream",
     "text": [
      "a is  10\n",
      "b is  20\n",
      "c is  30\n",
      "sum of numbers is  60\n"
     ]
    }
   ],
   "source": [
    "def fun(a,b,c):\n",
    "    print(\"a is \", a)\n",
    "    print(\"b is \", b)\n",
    "    print(\"c is \", c)\n",
    "    print(\"sum of numbers is \", a+b+c)\n",
    "  \n",
    "tup=(10,20,30)\n",
    "fun(*tup) #the tuple get exploaded and individual elements will go"
   ]
  },
  {
   "cell_type": "code",
   "execution_count": 14,
   "metadata": {},
   "outputs": [
    {
     "ename": "TypeError",
     "evalue": "fun() missing 2 required positional arguments: 'b' and 'c'",
     "output_type": "error",
     "traceback": [
      "\u001b[1;31m---------------------------------------------------------------------------\u001b[0m",
      "\u001b[1;31mTypeError\u001b[0m                                 Traceback (most recent call last)",
      "\u001b[1;32m<ipython-input-14-62d80ac6b0c8>\u001b[0m in \u001b[0;36m<module>\u001b[1;34m\u001b[0m\n\u001b[0;32m      6\u001b[0m \u001b[1;33m\u001b[0m\u001b[0m\n\u001b[0;32m      7\u001b[0m \u001b[0md\u001b[0m\u001b[1;33m=\u001b[0m\u001b[1;33m{\u001b[0m\u001b[1;34m'c'\u001b[0m\u001b[1;33m:\u001b[0m\u001b[1;36m30\u001b[0m\u001b[1;33m,\u001b[0m\u001b[1;34m'a'\u001b[0m\u001b[1;33m:\u001b[0m\u001b[1;36m10\u001b[0m\u001b[1;33m,\u001b[0m\u001b[1;34m'b'\u001b[0m\u001b[1;33m:\u001b[0m\u001b[1;36m20\u001b[0m\u001b[1;33m}\u001b[0m\u001b[1;33m\u001b[0m\u001b[1;33m\u001b[0m\u001b[0m\n\u001b[1;32m----> 8\u001b[1;33m \u001b[0mfun\u001b[0m\u001b[1;33m(\u001b[0m\u001b[0md\u001b[0m\u001b[1;33m)\u001b[0m\u001b[1;33m\u001b[0m\u001b[1;33m\u001b[0m\u001b[0m\n\u001b[0m",
      "\u001b[1;31mTypeError\u001b[0m: fun() missing 2 required positional arguments: 'b' and 'c'"
     ]
    }
   ],
   "source": [
    "def fun(a,b,c):\n",
    "    print(\"a is \", a)\n",
    "    print(\"b is \", b)\n",
    "    print(\"c is \", c)\n",
    "    print(\"sum of numbers is \", a+b+c)\n",
    "  \n",
    "d={'c':30,'a':10,'b':20}\n",
    "fun(d) "
   ]
  },
  {
   "cell_type": "code",
   "execution_count": 15,
   "metadata": {},
   "outputs": [
    {
     "name": "stdout",
     "output_type": "stream",
     "text": [
      "a is  c\n",
      "b is  a\n",
      "c is  b\n",
      "sum of numbers is  cab\n"
     ]
    }
   ],
   "source": [
    "def fun(a,b,c):\n",
    "    print(\"a is \", a)\n",
    "    print(\"b is \", b)\n",
    "    print(\"c is \", c)\n",
    "    print(\"sum of numbers is \", a+b+c)\n",
    "  \n",
    "d={'c':30,'a':10,'b':20}\n",
    "fun(*d)  #only keys of a dictionary will go"
   ]
  },
  {
   "cell_type": "code",
   "execution_count": 16,
   "metadata": {},
   "outputs": [
    {
     "name": "stdout",
     "output_type": "stream",
     "text": [
      "a is  10\n",
      "b is  20\n",
      "c is  30\n",
      "sum of numbers is  60\n"
     ]
    }
   ],
   "source": [
    "def fun(a,b,c):\n",
    "    print(\"a is \", a)\n",
    "    print(\"b is \", b)\n",
    "    print(\"c is \", c)\n",
    "    print(\"sum of numbers is \", a+b+c)\n",
    "  \n",
    "d={'c':30,'a':10,'b':20}\n",
    "fun(**d)  #only value will go to corresponding keys matching with arguments of a function\n",
    "          # if there is a mismatch it will throw an error"
   ]
  },
  {
   "cell_type": "code",
   "execution_count": 17,
   "metadata": {},
   "outputs": [
    {
     "ename": "TypeError",
     "evalue": "fun() got an unexpected keyword argument 'k'",
     "output_type": "error",
     "traceback": [
      "\u001b[1;31m---------------------------------------------------------------------------\u001b[0m",
      "\u001b[1;31mTypeError\u001b[0m                                 Traceback (most recent call last)",
      "\u001b[1;32m<ipython-input-17-366bb88d28be>\u001b[0m in \u001b[0;36m<module>\u001b[1;34m\u001b[0m\n\u001b[0;32m      6\u001b[0m \u001b[1;33m\u001b[0m\u001b[0m\n\u001b[0;32m      7\u001b[0m \u001b[0md\u001b[0m\u001b[1;33m=\u001b[0m\u001b[1;33m{\u001b[0m\u001b[1;34m'k'\u001b[0m\u001b[1;33m:\u001b[0m\u001b[1;36m30\u001b[0m\u001b[1;33m,\u001b[0m\u001b[1;34m'a'\u001b[0m\u001b[1;33m:\u001b[0m\u001b[1;36m10\u001b[0m\u001b[1;33m,\u001b[0m\u001b[1;34m'b'\u001b[0m\u001b[1;33m:\u001b[0m\u001b[1;36m20\u001b[0m\u001b[1;33m}\u001b[0m\u001b[1;33m\u001b[0m\u001b[1;33m\u001b[0m\u001b[0m\n\u001b[1;32m----> 8\u001b[1;33m \u001b[0mfun\u001b[0m\u001b[1;33m(\u001b[0m\u001b[1;33m**\u001b[0m\u001b[0md\u001b[0m\u001b[1;33m)\u001b[0m\u001b[1;33m\u001b[0m\u001b[1;33m\u001b[0m\u001b[0m\n\u001b[0m",
      "\u001b[1;31mTypeError\u001b[0m: fun() got an unexpected keyword argument 'k'"
     ]
    }
   ],
   "source": [
    "def fun(a,b,c):\n",
    "    print(\"a is \", a)\n",
    "    print(\"b is \", b)\n",
    "    print(\"c is \", c)\n",
    "    print(\"sum of numbers is \", a+b+c)\n",
    "  \n",
    "d={'k':30,'a':10,'b':20}\n",
    "fun(**d)"
   ]
  },
  {
   "cell_type": "code",
   "execution_count": 18,
   "metadata": {},
   "outputs": [
    {
     "name": "stdout",
     "output_type": "stream",
     "text": [
      "1. num is  10\n",
      "2. num is  20\n",
      "3. num is  50\n",
      "4. num is  50\n"
     ]
    }
   ],
   "source": [
    "# if we want to access any variable defined outside the function we need to redefine in a function using global keyword.\n",
    "# if we do this it will access same memory location as variable defined outside the function\n",
    "\n",
    "num=10\n",
    "\n",
    "def fun1():\n",
    "    global num\n",
    "    num+=10\n",
    "    print(\"2. num is \", num)      #20\n",
    "    \n",
    "def fun2():\n",
    "    global num\n",
    "    num+=30\n",
    "    print(\"3. num is \", num)      #50\n",
    "    \n",
    "print(\"1. num is \", num)          #10\n",
    "fun1()\n",
    "fun2()\n",
    "print(\"4. num is \", num)          #50"
   ]
  },
  {
   "cell_type": "code",
   "execution_count": 19,
   "metadata": {},
   "outputs": [
    {
     "name": "stdout",
     "output_type": "stream",
     "text": [
      "1. num is  10\n",
      "2. num is  11\n",
      "3. num is  40\n",
      "4. num is  40\n"
     ]
    }
   ],
   "source": [
    "num=10\n",
    "def fun1(): # here num is local, it has no relation with num defined outside the function\n",
    "    num = 1\n",
    "    num+=10\n",
    "    print(\"2. num is \", num)      #11\n",
    "    \n",
    "def fun2():\n",
    "    global num\n",
    "    num+=30\n",
    "    print(\"3. num is \", num)      #40\n",
    "    \n",
    "print(\"1. num is \", num)          #10\n",
    "fun1()\n",
    "fun2()\n",
    "print(\"4. num is \", num)          #40"
   ]
  },
  {
   "cell_type": "code",
   "execution_count": null,
   "metadata": {},
   "outputs": [],
   "source": [
    "status=\"fail\"\n",
    "def checkwin():\n",
    "    global status\n",
    "    count=0\n",
    "    while count<3 and status==\"fail\":\n",
    "        num=int(input(\"guess the number : \"))\n",
    "        if (num>2 and num<20 and num%2!=0):\n",
    "            status=\"success\"\n",
    "        count+=1\n",
    "\n",
    "checkwin()\n",
    "if status==\"success\":\n",
    "    print(\" You win\")\n",
    "else:\n",
    "    print(\"You Fail\")"
   ]
  },
  {
   "cell_type": "code",
   "execution_count": 20,
   "metadata": {},
   "outputs": [
    {
     "name": "stdout",
     "output_type": "stream",
     "text": [
      "Enter First Number 10\n",
      "Enter Second Number 20\n",
      "choose calculator option\n",
      "1.Add\n",
      "2.Subtract\n",
      "3.Multiply\n",
      "4.Divide\n",
      "5.change the number\n",
      "t.Terminate\n",
      "Enter your choice : 1\n",
      "Result =  30\n",
      "choose calculator option\n",
      "1.Add\n",
      "2.Subtract\n",
      "3.Multiply\n",
      "4.Divide\n",
      "5.change the number\n",
      "t.Terminate\n",
      "Enter your choice : t\n"
     ]
    }
   ],
   "source": [
    "def add(a,b):\n",
    "    print(\"Result = \",a+b)\n",
    "def subtract(a,b):\n",
    "    print(\"Result = \",a-b)\n",
    "def multiply(a,b):\n",
    "    print(\"Result = \",a*b)\n",
    "def divide(a,b):\n",
    "    print(\"Result = \",a/b)\n",
    "\n",
    "option=\"\"\n",
    "a=int(input(\"Enter First Number \"))\n",
    "b=int(input(\"Enter Second Number \"))\n",
    "while option.lower()!=\"t\":\n",
    "    option=input(\"choose calculator option\\n1.Add\\n2.Subtract\\n3.Multiply\\n4.Divide\\n5.change the number\\nt.Terminate\\nEnter your choice : \")\n",
    "    if option==\"1\":\n",
    "        add(a,b)\n",
    "    elif option==\"2\":\n",
    "        subtract(a,b)\n",
    "    elif option==\"3\":\n",
    "        multiply(a,b)\n",
    "    elif option==\"4\":\n",
    "        divide(a,b)\n",
    "    elif option==\"5\":\n",
    "        a=int(input(\"Enter First Number \"))\n",
    "        b=int(input(\"Enter Second Number \"))"
   ]
  },
  {
   "cell_type": "code",
   "execution_count": 21,
   "metadata": {},
   "outputs": [
    {
     "name": "stdout",
     "output_type": "stream",
     "text": [
      "ans is  60\n"
     ]
    }
   ],
   "source": [
    "def fun(a,b,c):\n",
    "    return a+b+c\n",
    "\n",
    "ans=fun(10,20,30)\n",
    "print(\"ans is \", ans)"
   ]
  },
  {
   "cell_type": "code",
   "execution_count": 23,
   "metadata": {},
   "outputs": [
    {
     "name": "stdout",
     "output_type": "stream",
     "text": [
      "ans is  60\n"
     ]
    }
   ],
   "source": [
    "#syntax\n",
    "#fun_name = lambda input_arguments : return_value\n",
    "\n",
    "fun = lambda a,b,c:a+b+c\n",
    "print(\"ans is \", fun(10,20,30))"
   ]
  },
  {
   "cell_type": "code",
   "execution_count": 25,
   "metadata": {},
   "outputs": [
    {
     "name": "stdout",
     "output_type": "stream",
     "text": [
      "ans is  60\n",
      "ans is  600\n"
     ]
    }
   ],
   "source": [
    "# we can have default values in lambda function\n",
    "\n",
    "fun = lambda a,b=20,c=30:a+b+c\n",
    "print(\"ans is \", fun(10))\n",
    "print(\"ans is \", fun(100,200,300))"
   ]
  },
  {
   "cell_type": "code",
   "execution_count": 27,
   "metadata": {},
   "outputs": [
    {
     "name": "stdout",
     "output_type": "stream",
     "text": [
      "Please enter radius : 3\n",
      "Area of a circle having radius as  3.0 is  28.274333882308138\n",
      "Perimeter of a circle having radius as  3.0 is  18.84955592153876\n"
     ]
    }
   ],
   "source": [
    "from math import pi\n",
    "radius=float(input(\"Please enter radius : \"))\n",
    "area = lambda radius:pi*radius**2\n",
    "perimter = lambda radius:2*pi*radius\n",
    "print(\"Area of a circle having radius as \", radius, \"is \", area(radius))\n",
    "print(\"Perimeter of a circle having radius as \", radius, \"is \", perimeter(radius))"
   ]
  },
  {
   "cell_type": "code",
   "execution_count": null,
   "metadata": {},
   "outputs": [],
   "source": []
  }
 ],
 "metadata": {
  "kernelspec": {
   "display_name": "Python 3",
   "language": "python",
   "name": "python3"
  },
  "language_info": {
   "codemirror_mode": {
    "name": "ipython",
    "version": 3
   },
   "file_extension": ".py",
   "mimetype": "text/x-python",
   "name": "python",
   "nbconvert_exporter": "python",
   "pygments_lexer": "ipython3",
   "version": "3.7.6"
  }
 },
 "nbformat": 4,
 "nbformat_minor": 4
}
