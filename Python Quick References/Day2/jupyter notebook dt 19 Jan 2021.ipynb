{
 "cells": [
  {
   "cell_type": "code",
   "execution_count": 2,
   "metadata": {},
   "outputs": [
    {
     "data": {
      "text/plain": [
       "65"
      ]
     },
     "execution_count": 2,
     "metadata": {},
     "output_type": "execute_result"
    }
   ],
   "source": [
    "x='A'\n",
    "ord(x)"
   ]
  },
  {
   "cell_type": "code",
   "execution_count": 3,
   "metadata": {},
   "outputs": [
    {
     "data": {
      "text/plain": [
       "90"
      ]
     },
     "execution_count": 3,
     "metadata": {},
     "output_type": "execute_result"
    }
   ],
   "source": [
    "ord('Z')"
   ]
  },
  {
   "cell_type": "code",
   "execution_count": 4,
   "metadata": {},
   "outputs": [
    {
     "data": {
      "text/plain": [
       "97"
      ]
     },
     "execution_count": 4,
     "metadata": {},
     "output_type": "execute_result"
    }
   ],
   "source": [
    "ord('a')"
   ]
  },
  {
   "cell_type": "code",
   "execution_count": 5,
   "metadata": {},
   "outputs": [
    {
     "data": {
      "text/plain": [
       "122"
      ]
     },
     "execution_count": 5,
     "metadata": {},
     "output_type": "execute_result"
    }
   ],
   "source": [
    "ord('z')"
   ]
  },
  {
   "cell_type": "code",
   "execution_count": 6,
   "metadata": {},
   "outputs": [
    {
     "name": "stdout",
     "output_type": "stream",
     "text": [
      "Please enter any name : amit123 kumar123\n",
      " the total number of chars in name are  9\n"
     ]
    }
   ],
   "source": [
    "name=input(\"Please enter any name : \")\n",
    "count=0\n",
    "for x in name:\n",
    "    if ((ord(x)>=65 and ord(x)<=90) or (ord(x)>=97 and ord(x)<=122)):\n",
    "        count+=1\n",
    "print(\" the total number of chars in name are \", count)"
   ]
  },
  {
   "cell_type": "code",
   "execution_count": 7,
   "metadata": {},
   "outputs": [
    {
     "name": "stdout",
     "output_type": "stream",
     "text": [
      "Please enter any number 3\n",
      "3  X  1  =  3\n",
      "3  X  2  =  6\n",
      "3  X  3  =  9\n",
      "3  X  4  =  12\n",
      "3  X  5  =  15\n",
      "3  X  6  =  18\n",
      "3  X  7  =  21\n",
      "3  X  8  =  24\n",
      "3  X  9  =  27\n",
      "3  X  10  =  30\n"
     ]
    }
   ],
   "source": [
    "num = int(input(\"Please enter any number \"))\n",
    "count=1\n",
    "while count<=10:\n",
    "    print(num, \" X \", count, \" = \", num*count)\n",
    "    count+=1"
   ]
  },
  {
   "cell_type": "code",
   "execution_count": 8,
   "metadata": {},
   "outputs": [
    {
     "name": "stdout",
     "output_type": "stream",
     "text": [
      "<class 'list'>\n"
     ]
    }
   ],
   "source": [
    "list1=list()\n",
    "print(type(list1))"
   ]
  },
  {
   "cell_type": "code",
   "execution_count": 9,
   "metadata": {},
   "outputs": [
    {
     "data": {
      "text/plain": [
       "[10, 20, 30, 'India', 'USA', 'China']"
      ]
     },
     "execution_count": 9,
     "metadata": {},
     "output_type": "execute_result"
    }
   ],
   "source": [
    "list1=[10,20,30,'India','USA','China']\n",
    "list1"
   ]
  },
  {
   "cell_type": "code",
   "execution_count": 10,
   "metadata": {},
   "outputs": [
    {
     "data": {
      "text/plain": [
       "10"
      ]
     },
     "execution_count": 10,
     "metadata": {},
     "output_type": "execute_result"
    }
   ],
   "source": [
    "list1[0]"
   ]
  },
  {
   "cell_type": "code",
   "execution_count": 11,
   "metadata": {},
   "outputs": [
    {
     "data": {
      "text/plain": [
       "['Canada', 20, 30, 'India', 'USA', 'China']"
      ]
     },
     "execution_count": 11,
     "metadata": {},
     "output_type": "execute_result"
    }
   ],
   "source": [
    "list1[0]='Canada'\n",
    "list1"
   ]
  },
  {
   "cell_type": "code",
   "execution_count": 12,
   "metadata": {},
   "outputs": [
    {
     "data": {
      "text/plain": [
       "6"
      ]
     },
     "execution_count": 12,
     "metadata": {},
     "output_type": "execute_result"
    }
   ],
   "source": [
    "len(list1)"
   ]
  },
  {
   "cell_type": "code",
   "execution_count": 13,
   "metadata": {},
   "outputs": [
    {
     "data": {
      "text/plain": [
       "['Canada', 20, 30, 'India', 'USA', 'China']"
      ]
     },
     "execution_count": 13,
     "metadata": {},
     "output_type": "execute_result"
    }
   ],
   "source": [
    "list1"
   ]
  },
  {
   "cell_type": "code",
   "execution_count": 14,
   "metadata": {},
   "outputs": [],
   "source": [
    "list1.append(100)"
   ]
  },
  {
   "cell_type": "code",
   "execution_count": 15,
   "metadata": {},
   "outputs": [
    {
     "data": {
      "text/plain": [
       "['Canada', 20, 30, 'India', 'USA', 'China', 100]"
      ]
     },
     "execution_count": 15,
     "metadata": {},
     "output_type": "execute_result"
    }
   ],
   "source": [
    "list1"
   ]
  },
  {
   "cell_type": "code",
   "execution_count": 16,
   "metadata": {},
   "outputs": [
    {
     "data": {
      "text/plain": [
       "['Canada', 20, 30, 'India', 'USA', 'China', 100, 'a', 'b', 'c']"
      ]
     },
     "execution_count": 16,
     "metadata": {},
     "output_type": "execute_result"
    }
   ],
   "source": [
    "list1.extend(['a','b','c'])\n",
    "list1"
   ]
  },
  {
   "cell_type": "code",
   "execution_count": 17,
   "metadata": {},
   "outputs": [
    {
     "data": {
      "text/plain": [
       "['Canada', 20, 300, 30, 'India', 'USA', 'China', 100, 'a', 'b', 'c']"
      ]
     },
     "execution_count": 17,
     "metadata": {},
     "output_type": "execute_result"
    }
   ],
   "source": [
    "list1.insert(2,300)\n",
    "list1"
   ]
  },
  {
   "cell_type": "code",
   "execution_count": 18,
   "metadata": {},
   "outputs": [],
   "source": [
    "list1=list1+[100,200,300]"
   ]
  },
  {
   "cell_type": "code",
   "execution_count": 19,
   "metadata": {},
   "outputs": [
    {
     "data": {
      "text/plain": [
       "['Canada',\n",
       " 20,\n",
       " 300,\n",
       " 30,\n",
       " 'India',\n",
       " 'USA',\n",
       " 'China',\n",
       " 100,\n",
       " 'a',\n",
       " 'b',\n",
       " 'c',\n",
       " 100,\n",
       " 200,\n",
       " 300]"
      ]
     },
     "execution_count": 19,
     "metadata": {},
     "output_type": "execute_result"
    }
   ],
   "source": [
    "list1"
   ]
  },
  {
   "cell_type": "code",
   "execution_count": 20,
   "metadata": {},
   "outputs": [
    {
     "data": {
      "text/plain": [
       "['Canada',\n",
       " 20,\n",
       " 300,\n",
       " 30,\n",
       " 'India',\n",
       " 'USA',\n",
       " 'China',\n",
       " 100,\n",
       " 'a',\n",
       " 'b',\n",
       " 'c',\n",
       " 100,\n",
       " 200,\n",
       " 300,\n",
       " 11,\n",
       " 22]"
      ]
     },
     "execution_count": 20,
     "metadata": {},
     "output_type": "execute_result"
    }
   ],
   "source": [
    "list2=[11,22]\n",
    "list1.extend(list2)\n",
    "list1"
   ]
  },
  {
   "cell_type": "code",
   "execution_count": 21,
   "metadata": {},
   "outputs": [
    {
     "data": {
      "text/plain": [
       "['Canada',\n",
       " 20,\n",
       " 300,\n",
       " 30,\n",
       " 'India',\n",
       " 'USA',\n",
       " 'China',\n",
       " 100,\n",
       " 'a',\n",
       " 'b',\n",
       " 'c',\n",
       " 100,\n",
       " 200,\n",
       " 300,\n",
       " 11,\n",
       " 22]"
      ]
     },
     "execution_count": 21,
     "metadata": {},
     "output_type": "execute_result"
    }
   ],
   "source": [
    "list1"
   ]
  },
  {
   "cell_type": "code",
   "execution_count": 22,
   "metadata": {},
   "outputs": [
    {
     "data": {
      "text/plain": [
       "22"
      ]
     },
     "execution_count": 22,
     "metadata": {},
     "output_type": "execute_result"
    }
   ],
   "source": [
    "list1.pop() # delete last value and return on the screen"
   ]
  },
  {
   "cell_type": "code",
   "execution_count": 23,
   "metadata": {},
   "outputs": [
    {
     "data": {
      "text/plain": [
       "['Canada',\n",
       " 20,\n",
       " 300,\n",
       " 30,\n",
       " 'India',\n",
       " 'USA',\n",
       " 'China',\n",
       " 100,\n",
       " 'a',\n",
       " 'b',\n",
       " 'c',\n",
       " 100,\n",
       " 200,\n",
       " 300,\n",
       " 11]"
      ]
     },
     "execution_count": 23,
     "metadata": {},
     "output_type": "execute_result"
    }
   ],
   "source": [
    "list1"
   ]
  },
  {
   "cell_type": "code",
   "execution_count": 24,
   "metadata": {},
   "outputs": [
    {
     "data": {
      "text/plain": [
       "300"
      ]
     },
     "execution_count": 24,
     "metadata": {},
     "output_type": "execute_result"
    }
   ],
   "source": [
    "list1.pop(2)"
   ]
  },
  {
   "cell_type": "code",
   "execution_count": 25,
   "metadata": {},
   "outputs": [
    {
     "data": {
      "text/plain": [
       "['Canada',\n",
       " 20,\n",
       " 30,\n",
       " 'India',\n",
       " 'USA',\n",
       " 'China',\n",
       " 100,\n",
       " 'a',\n",
       " 'b',\n",
       " 'c',\n",
       " 100,\n",
       " 200,\n",
       " 300,\n",
       " 11]"
      ]
     },
     "execution_count": 25,
     "metadata": {},
     "output_type": "execute_result"
    }
   ],
   "source": [
    "list1"
   ]
  },
  {
   "cell_type": "code",
   "execution_count": 26,
   "metadata": {},
   "outputs": [
    {
     "data": {
      "text/plain": [
       "['Canada', 20, 30, 'India', 'China', 100, 'a', 'b', 'c', 100, 200, 300, 11]"
      ]
     },
     "execution_count": 26,
     "metadata": {},
     "output_type": "execute_result"
    }
   ],
   "source": [
    "del list1[4]\n",
    "list1"
   ]
  },
  {
   "cell_type": "code",
   "execution_count": 27,
   "metadata": {},
   "outputs": [
    {
     "data": {
      "text/plain": [
       "['Canada', 30, 'India', 'China', 100, 'a', 'b', 'c', 100, 200, 300, 11]"
      ]
     },
     "execution_count": 27,
     "metadata": {},
     "output_type": "execute_result"
    }
   ],
   "source": [
    "list1.remove(20)\n",
    "list1"
   ]
  },
  {
   "cell_type": "code",
   "execution_count": 28,
   "metadata": {},
   "outputs": [
    {
     "ename": "ValueError",
     "evalue": "list.remove(x): x not in list",
     "output_type": "error",
     "traceback": [
      "\u001b[1;31m---------------------------------------------------------------------------\u001b[0m",
      "\u001b[1;31mValueError\u001b[0m                                Traceback (most recent call last)",
      "\u001b[1;32m<ipython-input-28-eca377ad8dba>\u001b[0m in \u001b[0;36m<module>\u001b[1;34m\u001b[0m\n\u001b[1;32m----> 1\u001b[1;33m \u001b[0mlist1\u001b[0m\u001b[1;33m.\u001b[0m\u001b[0mremove\u001b[0m\u001b[1;33m(\u001b[0m\u001b[1;36m10000\u001b[0m\u001b[1;33m)\u001b[0m\u001b[1;33m\u001b[0m\u001b[1;33m\u001b[0m\u001b[0m\n\u001b[0m",
      "\u001b[1;31mValueError\u001b[0m: list.remove(x): x not in list"
     ]
    }
   ],
   "source": [
    "list1.remove(10000)"
   ]
  },
  {
   "cell_type": "code",
   "execution_count": 29,
   "metadata": {},
   "outputs": [
    {
     "name": "stdout",
     "output_type": "stream",
     "text": [
      "value fetched is  Canada\n",
      "value fetched is  30\n",
      "value fetched is  India\n",
      "value fetched is  China\n",
      "value fetched is  100\n",
      "value fetched is  a\n",
      "value fetched is  b\n",
      "value fetched is  c\n",
      "value fetched is  100\n",
      "value fetched is  200\n",
      "value fetched is  300\n",
      "value fetched is  11\n"
     ]
    }
   ],
   "source": [
    "for x in list1:\n",
    "    print(\"value fetched is \", x)"
   ]
  },
  {
   "cell_type": "code",
   "execution_count": 31,
   "metadata": {},
   "outputs": [
    {
     "name": "stdout",
     "output_type": "stream",
     "text": [
      "Please enter any number : 1\n",
      "Please enter any number : 3\n",
      "Please enter any number : 5\n",
      "Please enter any number : 10\n",
      "Please enter any number : 22\n",
      "Please enter any number : 11\n",
      "Please enter any number : 4\n",
      "Please enter any number : -999\n",
      "list1 is  [1, 3, 5, 10, 22, 11, 4]\n",
      "even list is  [10, 22, 4]\n",
      "odd list is  [1, 3, 5, 11]\n",
      "sum of elements of list1 is  56\n",
      "mean of elements of list1 is  8.0\n"
     ]
    }
   ],
   "source": [
    "'''\n",
    "take an input from the user any number infinitely till user enters -999\n",
    "keep on appending elements in the list. once list is created create even and odd two lists containing even and odd elements\n",
    "find the sum of all the elements of a list\n",
    "find the mean of all the elements of a list\n",
    "'''\n",
    "\n",
    "num,sum,mean=0,0,0\n",
    "list1, even_list, odd_list=[],[],[]\n",
    "while num!=-999:\n",
    "    num=int(input(\"Please enter any number : \"))\n",
    "    if num !=-999:\n",
    "        list1.append(num)\n",
    "        sum+=num\n",
    "        if num%2==0:\n",
    "            even_list.append(num)\n",
    "        else:\n",
    "            odd_list.append(num)\n",
    "        \n",
    "print(\"list1 is \", list1)\n",
    "print(\"even list is \", even_list)\n",
    "print(\"odd list is \", odd_list)\n",
    "print(\"sum of elements of list1 is \", sum)\n",
    "print(\"mean of elements of list1 is \", sum/len(list1))"
   ]
  },
  {
   "cell_type": "code",
   "execution_count": 32,
   "metadata": {},
   "outputs": [
    {
     "data": {
      "text/plain": [
       "[0, 1, 2, 3, 4, 5, 6, 7, 8, 9]"
      ]
     },
     "execution_count": 32,
     "metadata": {},
     "output_type": "execute_result"
    }
   ],
   "source": [
    "list(range(10)) #this will generate 0 to 9 numbers"
   ]
  },
  {
   "cell_type": "code",
   "execution_count": 33,
   "metadata": {},
   "outputs": [
    {
     "data": {
      "text/plain": [
       "[10, 11, 12, 13, 14, 15, 16, 17, 18, 19]"
      ]
     },
     "execution_count": 33,
     "metadata": {},
     "output_type": "execute_result"
    }
   ],
   "source": [
    "list(range(10,20)) #this will generate 10 to 19"
   ]
  },
  {
   "cell_type": "code",
   "execution_count": 34,
   "metadata": {},
   "outputs": [
    {
     "data": {
      "text/plain": [
       "[10, 12, 14, 16, 18]"
      ]
     },
     "execution_count": 34,
     "metadata": {},
     "output_type": "execute_result"
    }
   ],
   "source": [
    "list(range(10,20,2)) #this will generate 10 to 19 with the jump of 1 value"
   ]
  },
  {
   "cell_type": "code",
   "execution_count": 35,
   "metadata": {},
   "outputs": [
    {
     "name": "stdout",
     "output_type": "stream",
     "text": [
      "value fected is  10\n",
      "value fected is  20\n",
      "value fected is  30\n",
      "value fected is  40\n",
      "value fected is  50\n"
     ]
    }
   ],
   "source": [
    "list1=[10,20,30,40,50]\n",
    "for x in list1:\n",
    "    print(\"value fected is \", x)"
   ]
  },
  {
   "cell_type": "code",
   "execution_count": 36,
   "metadata": {},
   "outputs": [
    {
     "name": "stdout",
     "output_type": "stream",
     "text": [
      "value fected is  10\n",
      "value fected is  20\n",
      "value fected is  30\n",
      "value fected is  40\n",
      "value fected is  50\n"
     ]
    }
   ],
   "source": [
    "list1=[10,20,30,40,50] #here we are fecthing using index locations\n",
    "for x in range(len(list1)): #this will generate 0 to 4\n",
    "    print(\"value fected is \", list1[x])"
   ]
  },
  {
   "cell_type": "code",
   "execution_count": null,
   "metadata": {},
   "outputs": [],
   "source": [
    "'''\n",
    "places = ['Delhi','Mumbai','Chennai', 'Jaipur']\n",
    "attractions = ['Red Fort', 'Gateway of India', 'Marina Beach', 'Ameer Fort']\n",
    "\n",
    "question 1 :- the the messages\n",
    "Delhi has Red Fort\n",
    "Mumbai has Gateway of India\n",
    "Chennai has Marina Beach\n",
    "Jaipur has Ameer Fort\n",
    "\n",
    "question 2:- take an input from the user any place and print its attraction. place search has to be case insensitive\n",
    "which means if user enters DELHI still he should get attraction as Red Fort. If place is not found print message attraction \n",
    "is not known\n",
    "\n",
    "question 3:- if attraction is found, print only the capital letters of the attraction on the screen\n",
    "\n",
    "'''\n",
    "\n",
    "place=['Delhi','Mumbai','Chennai','Jaipur']\n",
    "attract=['Red Fort','Gateway of India','Marina Beach','Ameer Fort']\n",
    "upPlace=\"\"\n",
    "\n",
    "if len(place)==len(attract):\n",
    "\tcheck='y'\n",
    "\tmatch=\"false\"\n",
    "\twhile check=='y':\n",
    "\t\tplaceSearch=str(input(\"Enter place\"))\n",
    "\t\tfor x in range(len(place)):\n",
    "\t\t\tif place[x].lower()==placeSearch.lower():\n",
    "\t\t\t\tmatch=\"true\"\n",
    "\t\t\t\tfor y in range(len(attract[x])):\n",
    "\t\t\t\t\tif attract[x][y].isupper():\n",
    "\t\t\t\t\t\tupPlace= upPlace+attract[x][y]\n",
    "\t\t\t\t\t\tprint(upPlace)\n",
    "\n",
    "\t\tif match==\"false\":\n",
    "\t\t\tprint(\"Place not found\")\n",
    "\t\tcheck=input(\"want to enter more y/n\")"
   ]
  },
  {
   "cell_type": "code",
   "execution_count": 37,
   "metadata": {},
   "outputs": [
    {
     "data": {
      "text/plain": [
       "[30, 40, 'india']"
      ]
     },
     "execution_count": 37,
     "metadata": {},
     "output_type": "execute_result"
    }
   ],
   "source": [
    "list1=[10,20,30,40,'india']\n",
    "list1[2:]"
   ]
  },
  {
   "cell_type": "code",
   "execution_count": 38,
   "metadata": {},
   "outputs": [
    {
     "data": {
      "text/plain": [
       "[10, 20]"
      ]
     },
     "execution_count": 38,
     "metadata": {},
     "output_type": "execute_result"
    }
   ],
   "source": [
    "list1[:2]"
   ]
  },
  {
   "cell_type": "code",
   "execution_count": 39,
   "metadata": {},
   "outputs": [
    {
     "data": {
      "text/plain": [
       "[30, 40, 'india']"
      ]
     },
     "execution_count": 39,
     "metadata": {},
     "output_type": "execute_result"
    }
   ],
   "source": [
    "list1[2:5]"
   ]
  },
  {
   "cell_type": "code",
   "execution_count": 40,
   "metadata": {},
   "outputs": [
    {
     "data": {
      "text/plain": [
       "[30, 'india']"
      ]
     },
     "execution_count": 40,
     "metadata": {},
     "output_type": "execute_result"
    }
   ],
   "source": [
    "list1[2:5:2] #start from 2nd go till 4th with the jump of 1 value"
   ]
  },
  {
   "cell_type": "code",
   "execution_count": 41,
   "metadata": {},
   "outputs": [
    {
     "data": {
      "text/plain": [
       "['india', 40, 30, 20, 10]"
      ]
     },
     "execution_count": 41,
     "metadata": {},
     "output_type": "execute_result"
    }
   ],
   "source": [
    "list1[::-1]"
   ]
  },
  {
   "cell_type": "code",
   "execution_count": 42,
   "metadata": {},
   "outputs": [
    {
     "name": "stdout",
     "output_type": "stream",
     "text": [
      "<class 'tuple'>\n"
     ]
    }
   ],
   "source": [
    "tup=tuple()\n",
    "print(type(tup))"
   ]
  },
  {
   "cell_type": "code",
   "execution_count": 43,
   "metadata": {},
   "outputs": [
    {
     "data": {
      "text/plain": [
       "(10, 20, 30, 40)"
      ]
     },
     "execution_count": 43,
     "metadata": {},
     "output_type": "execute_result"
    }
   ],
   "source": [
    "tup=(10,20,30,40)\n",
    "tup"
   ]
  },
  {
   "cell_type": "code",
   "execution_count": 44,
   "metadata": {},
   "outputs": [
    {
     "data": {
      "text/plain": [
       "10"
      ]
     },
     "execution_count": 44,
     "metadata": {},
     "output_type": "execute_result"
    }
   ],
   "source": [
    "tup[0]"
   ]
  },
  {
   "cell_type": "code",
   "execution_count": 45,
   "metadata": {},
   "outputs": [
    {
     "data": {
      "text/plain": [
       "40"
      ]
     },
     "execution_count": 45,
     "metadata": {},
     "output_type": "execute_result"
    }
   ],
   "source": [
    "tup[-1]"
   ]
  },
  {
   "cell_type": "code",
   "execution_count": 46,
   "metadata": {},
   "outputs": [
    {
     "ename": "TypeError",
     "evalue": "'tuple' object does not support item assignment",
     "output_type": "error",
     "traceback": [
      "\u001b[1;31m---------------------------------------------------------------------------\u001b[0m",
      "\u001b[1;31mTypeError\u001b[0m                                 Traceback (most recent call last)",
      "\u001b[1;32m<ipython-input-46-d0c10ca2c2a2>\u001b[0m in \u001b[0;36m<module>\u001b[1;34m\u001b[0m\n\u001b[1;32m----> 1\u001b[1;33m \u001b[0mtup\u001b[0m\u001b[1;33m[\u001b[0m\u001b[1;36m0\u001b[0m\u001b[1;33m]\u001b[0m\u001b[1;33m=\u001b[0m\u001b[1;34m'India'\u001b[0m\u001b[1;33m\u001b[0m\u001b[1;33m\u001b[0m\u001b[0m\n\u001b[0m",
      "\u001b[1;31mTypeError\u001b[0m: 'tuple' object does not support item assignment"
     ]
    }
   ],
   "source": [
    "tup[0]='India'"
   ]
  },
  {
   "cell_type": "code",
   "execution_count": 47,
   "metadata": {},
   "outputs": [
    {
     "data": {
      "text/plain": [
       "4"
      ]
     },
     "execution_count": 47,
     "metadata": {},
     "output_type": "execute_result"
    }
   ],
   "source": [
    "len(tup)"
   ]
  },
  {
   "cell_type": "code",
   "execution_count": 48,
   "metadata": {},
   "outputs": [
    {
     "data": {
      "text/plain": [
       "True"
      ]
     },
     "execution_count": 48,
     "metadata": {},
     "output_type": "execute_result"
    }
   ],
   "source": [
    "10 in tup"
   ]
  },
  {
   "cell_type": "code",
   "execution_count": 49,
   "metadata": {},
   "outputs": [
    {
     "data": {
      "text/plain": [
       "{'name': 'amit', 'age': 22, 'salary': 30000, 101: 'house no'}"
      ]
     },
     "execution_count": 49,
     "metadata": {},
     "output_type": "execute_result"
    }
   ],
   "source": [
    "d={'name':'amit','age':22,'salary':30000, 101:'house no'}\n",
    "d"
   ]
  },
  {
   "cell_type": "code",
   "execution_count": 50,
   "metadata": {},
   "outputs": [
    {
     "data": {
      "text/plain": [
       "dict_keys(['name', 'age', 'salary', 101])"
      ]
     },
     "execution_count": 50,
     "metadata": {},
     "output_type": "execute_result"
    }
   ],
   "source": [
    "d.keys()"
   ]
  },
  {
   "cell_type": "code",
   "execution_count": 51,
   "metadata": {},
   "outputs": [
    {
     "data": {
      "text/plain": [
       "dict_values(['amit', 22, 30000, 'house no'])"
      ]
     },
     "execution_count": 51,
     "metadata": {},
     "output_type": "execute_result"
    }
   ],
   "source": [
    "d.values()"
   ]
  },
  {
   "cell_type": "code",
   "execution_count": 52,
   "metadata": {},
   "outputs": [
    {
     "data": {
      "text/plain": [
       "dict_items([('name', 'amit'), ('age', 22), ('salary', 30000), (101, 'house no')])"
      ]
     },
     "execution_count": 52,
     "metadata": {},
     "output_type": "execute_result"
    }
   ],
   "source": [
    "d.items()"
   ]
  },
  {
   "cell_type": "code",
   "execution_count": 53,
   "metadata": {},
   "outputs": [
    {
     "name": "stdout",
     "output_type": "stream",
     "text": [
      "key is  name and value is  amit\n",
      "key is  age and value is  22\n",
      "key is  salary and value is  30000\n",
      "key is  101 and value is  house no\n"
     ]
    }
   ],
   "source": [
    "for k,v in d.items():\n",
    "    print(\"key is \", k, \"and value is \", v)"
   ]
  },
  {
   "cell_type": "code",
   "execution_count": 54,
   "metadata": {},
   "outputs": [
    {
     "name": "stdout",
     "output_type": "stream",
     "text": [
      "Enter roll no : 1\n",
      "Enter Name of student : amit\n",
      "Enter roll no : 2\n",
      "Enter Name of student : sumit\n",
      "Enter roll no : 9\n",
      "Enter Name of student : suman\n",
      "Enter roll no : 10\n",
      "Enter Name of student : kiran\n",
      "Enter roll no : 11\n",
      "Enter Name of student : AMIT\n",
      "Enter roll no : 23\n",
      "Enter Name of student : AMiT\n",
      "Enter roll no : -999\n",
      "dictionary of roll number and names is  {1: 'amit', 2: 'sumit', 9: 'suman', 10: 'kiran', 11: 'AMIT', 23: 'AMiT'}\n",
      "enter any roll number to see student name : 2\n",
      "name of the student is  sumit\n",
      "Please enter name of student to see all roll number having that name : AMIT\n",
      "list of students roll number having that name [1, 11, 23]\n"
     ]
    }
   ],
   "source": [
    "# create a dictionary having key as roll number and value as name of student, keep on adding elements in \n",
    "# a dictionary till user enters -999\n",
    "# d={10:'Amit', 20:'Sumit',30:'Suman', 40:'AMIT'}\n",
    "\n",
    "# once dictionary is created as user and roll number and print name of student. if roll no not found print not found\n",
    "\n",
    "# take name of student and print list of roll number of all students with that name.search of name should be case insensitive\n",
    "\n",
    "d={}\n",
    "rollno=0\n",
    "list1=[]\n",
    "while rollno!=-999:\n",
    "    rollno=int(input(\"Enter roll no : \"))\n",
    "    if rollno != -999:\n",
    "        name=input(\"Enter Name of student : \")\n",
    "        d[rollno]=name\n",
    "print(\"dictionary of roll number and names is \", d)\n",
    "\n",
    "rollno = int(input(\"enter any roll number to see student name : \"))\n",
    "if rollno in d:\n",
    "    print(\"name of the student is \", d[rollno])\n",
    "else:\n",
    "    print(\"sorry student with that roll number not found\")\n",
    "\n",
    "name=input(\"Please enter name of student to see all roll number having that name : \")\n",
    "for k,v in d.items():\n",
    "    if v.upper() == name.upper():\n",
    "        list1.append(k)\n",
    "        \n",
    "if len(list1)==0:\n",
    "    print(\"sorry there are no student with that name \")\n",
    "else:\n",
    "    print(\"list of students roll number having that name\", list1)"
   ]
  },
  {
   "cell_type": "code",
   "execution_count": null,
   "metadata": {},
   "outputs": [],
   "source": []
  }
 ],
 "metadata": {
  "kernelspec": {
   "display_name": "Python 3",
   "language": "python",
   "name": "python3"
  },
  "language_info": {
   "codemirror_mode": {
    "name": "ipython",
    "version": 3
   },
   "file_extension": ".py",
   "mimetype": "text/x-python",
   "name": "python",
   "nbconvert_exporter": "python",
   "pygments_lexer": "ipython3",
   "version": "3.7.6"
  }
 },
 "nbformat": 4,
 "nbformat_minor": 4
}
