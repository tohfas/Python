{
 "cells": [
  {
   "cell_type": "code",
   "execution_count": 1,
   "metadata": {},
   "outputs": [
    {
     "name": "stdout",
     "output_type": "stream",
     "text": [
      "1. list1 is  [10, 20, 30]\n",
      "2. list1 is  [10, 20, 30]\n",
      "3.  is  [10, 20, 30, 100]\n",
      "4. list1 is  [10, 20, 30, 100]\n"
     ]
    }
   ],
   "source": [
    "def fun(list1):\n",
    "    print(\"2. list1 is \", list1)     #[10,20,30]\n",
    "    list1.append(100)\n",
    "    print(\"3.  is \", list1)          #[10,20,30,100]\n",
    "    \n",
    "list1=[10,20,30]\n",
    "print(\"1. list1 is \", list1)         #[10,20,30]\n",
    "fun(list1)\n",
    "print(\"4. list1 is \", list1)         #[10,20,30,100]"
   ]
  },
  {
   "cell_type": "code",
   "execution_count": 2,
   "metadata": {},
   "outputs": [
    {
     "data": {
      "text/plain": [
       "1430525339976"
      ]
     },
     "execution_count": 2,
     "metadata": {},
     "output_type": "execute_result"
    }
   ],
   "source": [
    "list1=[3,4,5,6]\n",
    "id(list1)"
   ]
  },
  {
   "cell_type": "code",
   "execution_count": 3,
   "metadata": {},
   "outputs": [
    {
     "data": {
      "text/plain": [
       "1430525339976"
      ]
     },
     "execution_count": 3,
     "metadata": {},
     "output_type": "execute_result"
    }
   ],
   "source": [
    "list1.insert(2,100)\n",
    "id(list1)"
   ]
  },
  {
   "cell_type": "code",
   "execution_count": 4,
   "metadata": {},
   "outputs": [
    {
     "data": {
      "text/plain": [
       "1430525339976"
      ]
     },
     "execution_count": 4,
     "metadata": {},
     "output_type": "execute_result"
    }
   ],
   "source": [
    "list1.remove(100)\n",
    "id(list1)"
   ]
  },
  {
   "cell_type": "code",
   "execution_count": 6,
   "metadata": {},
   "outputs": [
    {
     "name": "stdout",
     "output_type": "stream",
     "text": [
      "1. list1 is  [10, 20, 30]\n",
      "2. list1 is  [10, 20, 30]\n",
      "3. list1 is  ['India', 'USA', 'China']\n",
      "4. list1 is  [10, 20, 30]\n"
     ]
    }
   ],
   "source": [
    "def fun(list1):\n",
    "    print(\"2. list1 is \", list1)     #[10,20,30]\n",
    "    list1=['India','USA','China']\n",
    "    print(\"3. list1 is \", list1)          #['India','USA','China']\n",
    "    \n",
    "list1=[10,20,30]\n",
    "print(\"1. list1 is \", list1)         #[10,20,30]\n",
    "fun(list1)\n",
    "print(\"4. list1 is \", list1)         #[10,20,30]"
   ]
  },
  {
   "cell_type": "code",
   "execution_count": 7,
   "metadata": {},
   "outputs": [
    {
     "data": {
      "text/plain": [
       "[2, 3, 5, 5, 11, 22, 43, 80, 90]"
      ]
     },
     "execution_count": 7,
     "metadata": {},
     "output_type": "execute_result"
    }
   ],
   "source": [
    "list1=[2,5,3,5,11,90,80,43,22]\n",
    "list1.sort()\n",
    "list1"
   ]
  },
  {
   "cell_type": "code",
   "execution_count": 8,
   "metadata": {},
   "outputs": [
    {
     "name": "stdout",
     "output_type": "stream",
     "text": [
      "[2, 5, 3, 5, 11, 90, 80, 43, 22]\n",
      "[2, 3, 5, 5, 11, 22, 43, 80, 90]\n"
     ]
    }
   ],
   "source": [
    "list1=[2,5,3,5,11,90,80,43,22]\n",
    "list2=sorted(list1)\n",
    "print(list1)\n",
    "print(list2)"
   ]
  },
  {
   "cell_type": "code",
   "execution_count": 10,
   "metadata": {},
   "outputs": [
    {
     "name": "stdout",
     "output_type": "stream",
     "text": [
      "(3, 9, 22, 11, 33, 88, 29)\n",
      "[3, 9, 11, 22, 29, 33, 88]\n"
     ]
    }
   ],
   "source": [
    "tup1=(3,9,22,11,33,88,29)\n",
    "list2=sorted(tup1)\n",
    "print(tup1)\n",
    "print(list2)"
   ]
  },
  {
   "cell_type": "code",
   "execution_count": 11,
   "metadata": {},
   "outputs": [
    {
     "name": "stdout",
     "output_type": "stream",
     "text": [
      "(3, 9, 22, 11, 33, 88, 29)\n",
      "(3, 9, 11, 22, 29, 33, 88)\n"
     ]
    }
   ],
   "source": [
    "tup1=(3,9,22,11,33,88,29)\n",
    "list2=tuple(sorted(tup1))\n",
    "print(tup1)\n",
    "print(list2)"
   ]
  },
  {
   "cell_type": "code",
   "execution_count": 12,
   "metadata": {},
   "outputs": [
    {
     "name": "stdout",
     "output_type": "stream",
     "text": [
      "x is  (10, 20, 30, 'India', 'USA', 'China')\n",
      "type of x is  <class 'tuple'>\n",
      "value fetched is  10\n",
      "value fetched is  20\n",
      "value fetched is  30\n",
      "value fetched is  India\n",
      "value fetched is  USA\n",
      "value fetched is  China\n"
     ]
    }
   ],
   "source": [
    "# everything gets collected in x which is a tuple\n",
    "def arbitfun(*x):\n",
    "    print(\"x is \", x)\n",
    "    print(\"type of x is \", type(x))\n",
    "    for value in x:\n",
    "        print(\"value fetched is \", value)\n",
    "    \n",
    "arbitfun(10,20,30,'India', 'USA', 'China')"
   ]
  },
  {
   "cell_type": "code",
   "execution_count": 13,
   "metadata": {},
   "outputs": [
    {
     "name": "stdout",
     "output_type": "stream",
     "text": [
      "x is  ([10, 20, 30],)\n",
      "type of x is  <class 'tuple'>\n",
      "value fetched is  [10, 20, 30]\n"
     ]
    }
   ],
   "source": [
    "def arbitfun(*x):\n",
    "    print(\"x is \", x)\n",
    "    print(\"type of x is \", type(x))\n",
    "    for value in x:\n",
    "        print(\"value fetched is \", value)\n",
    "    \n",
    "list1=[10,20,30]\n",
    "arbitfun(list1)"
   ]
  },
  {
   "cell_type": "code",
   "execution_count": 14,
   "metadata": {},
   "outputs": [
    {
     "name": "stdout",
     "output_type": "stream",
     "text": [
      "x is  (10, 20, 30)\n",
      "type of x is  <class 'tuple'>\n",
      "value fetched is  10\n",
      "value fetched is  20\n",
      "value fetched is  30\n"
     ]
    }
   ],
   "source": [
    "def arbitfun(*x):\n",
    "    print(\"x is \", x)\n",
    "    print(\"type of x is \", type(x))\n",
    "    for value in x:\n",
    "        print(\"value fetched is \", value)\n",
    "    \n",
    "list1=[10,20,30]\n",
    "arbitfun(*list1) #this will explode the list and individual values will go"
   ]
  },
  {
   "cell_type": "code",
   "execution_count": 15,
   "metadata": {},
   "outputs": [
    {
     "name": "stdout",
     "output_type": "stream",
     "text": [
      "x is  ({'a': 10, 'b': 20, 'c': 30},)\n",
      "type of x is  <class 'tuple'>\n",
      "value fetched is  {'a': 10, 'b': 20, 'c': 30}\n"
     ]
    }
   ],
   "source": [
    "def arbitfun(*x):\n",
    "    print(\"x is \", x)\n",
    "    print(\"type of x is \", type(x))\n",
    "    for value in x:\n",
    "        print(\"value fetched is \", value)\n",
    "    \n",
    "d={'a':10,'b':20, 'c':30}\n",
    "arbitfun(d)"
   ]
  },
  {
   "cell_type": "code",
   "execution_count": 16,
   "metadata": {},
   "outputs": [
    {
     "name": "stdout",
     "output_type": "stream",
     "text": [
      "x is  ('a', 'b', 'c')\n",
      "type of x is  <class 'tuple'>\n",
      "value fetched is  a\n",
      "value fetched is  b\n",
      "value fetched is  c\n"
     ]
    }
   ],
   "source": [
    "def arbitfun(*x):\n",
    "    print(\"x is \", x)\n",
    "    print(\"type of x is \", type(x))\n",
    "    for value in x:\n",
    "        print(\"value fetched is \", value)\n",
    "    \n",
    "d={'a':10,'b':20, 'c':30}\n",
    "arbitfun(*d)"
   ]
  },
  {
   "cell_type": "code",
   "execution_count": 17,
   "metadata": {},
   "outputs": [
    {
     "name": "stdout",
     "output_type": "stream",
     "text": [
      "x is  ()\n",
      "type of x is  <class 'tuple'>\n",
      "y is  {'a': 10, 'b': 20, 'c': 30}\n",
      "type of y is  <class 'dict'>\n",
      "key is  a and value fetched is  10\n",
      "key is  b and value fetched is  20\n",
      "key is  c and value fetched is  30\n"
     ]
    }
   ],
   "source": [
    "def arbitfun(*x, **y):\n",
    "    print(\"x is \", x)\n",
    "    print(\"type of x is \", type(x))\n",
    "    for value in x:\n",
    "        print(\"value fetched is \", value)\n",
    "        \n",
    "    print(\"y is \", y)\n",
    "    print(\"type of y is \", type(y))\n",
    "    for key, value in y.items():\n",
    "        print(\"key is \", key, \"and value fetched is \", value)\n",
    "    \n",
    "d={'a':10,'b':20, 'c':30}\n",
    "arbitfun(**d)"
   ]
  },
  {
   "cell_type": "code",
   "execution_count": 18,
   "metadata": {},
   "outputs": [
    {
     "name": "stdout",
     "output_type": "stream",
     "text": [
      "x is  ('india', 'usa', 'china')\n",
      "type of x is  <class 'tuple'>\n",
      "value fetched is  india\n",
      "value fetched is  usa\n",
      "value fetched is  china\n",
      "y is  {'a': 10, 'b': 20, 'c': 30}\n",
      "type of y is  <class 'dict'>\n",
      "key is  a and value fetched is  10\n",
      "key is  b and value fetched is  20\n",
      "key is  c and value fetched is  30\n"
     ]
    }
   ],
   "source": [
    "def arbitfun(*x, **y):\n",
    "    print(\"x is \", x)\n",
    "    print(\"type of x is \", type(x))\n",
    "    for value in x:\n",
    "        print(\"value fetched is \", value)\n",
    "        \n",
    "    print(\"y is \", y)\n",
    "    print(\"type of y is \", type(y))\n",
    "    for key, value in y.items():\n",
    "        print(\"key is \", key, \"and value fetched is \", value)\n",
    "\n",
    "list1=['india','usa','china']\n",
    "d={'a':10,'b':20, 'c':30}\n",
    "arbitfun(*list1, **d)"
   ]
  },
  {
   "cell_type": "code",
   "execution_count": 19,
   "metadata": {},
   "outputs": [
    {
     "name": "stdout",
     "output_type": "stream",
     "text": [
      "a is  150\n",
      "b is  300\n",
      "c is  200\n",
      "d is  800\n",
      "e is  100\n"
     ]
    }
   ],
   "source": [
    "# what is the best way of passing values to a function - when number of values to pass in a function are not high we use \n",
    "# this technique which is used in all machine learning algorithms\n",
    "\n",
    "def fun(a,b,c,d,e):\n",
    "    print(\"a is \", a)\n",
    "    print(\"b is \", b)\n",
    "    print(\"c is \", c)\n",
    "    print(\"d is \", d)\n",
    "    print(\"e is \", e)\n",
    "\n",
    "fun(e=100,b=300,c=200,d=800, a=150)"
   ]
  },
  {
   "cell_type": "code",
   "execution_count": 21,
   "metadata": {},
   "outputs": [
    {
     "name": "stdout",
     "output_type": "stream",
     "text": [
      "a is  10\n",
      "b is  20\n",
      "c is  100\n",
      "d is  40\n",
      "e is  500\n"
     ]
    }
   ],
   "source": [
    "def fun(a=10,b=20,c=30,d=40,e=50):\n",
    "    print(\"a is \", a)\n",
    "    print(\"b is \", b)\n",
    "    print(\"c is \", c)\n",
    "    print(\"d is \", d)\n",
    "    print(\"e is \", e)\n",
    "\n",
    "fun(c=100, e=500)"
   ]
  },
  {
   "cell_type": "code",
   "execution_count": 1,
   "metadata": {},
   "outputs": [
    {
     "name": "stdout",
     "output_type": "stream",
     "text": [
      "entr the first name: amit\n",
      "enter the second name: kumar\n",
      "entr the age: 22\n",
      "enter adress: 10-22 janak puri delhi\n",
      "amit you are elegible to get the job\n"
     ]
    }
   ],
   "source": [
    "'''\n",
    "ask user first name, last name and age which is mandatory to give by the user\n",
    "Address is something optional, if user enters NA then default value should be \"Address not entered\"\n",
    "pass all these values to a functioin and check if the address contains Delhi in any case, then print\n",
    "First name you are elibible to get the job\n",
    "otherwise, print message for people who did not enter address that - you did not meet the shortlisting criteria\n",
    "people who are not from delhi, print message- only local candidates are eligible for job'''\n",
    "\n",
    "def fun(fnm,lnm,a,add):\n",
    "    if \"delhi\" in add.lower():\n",
    "        print(fnm,\"you are elegible to get the job\")\n",
    "    elif (\"delhi\" not in add.lower()):\n",
    "        print(\"only local candidates are eleigible for the job\")\n",
    "    elif (add==\"NA\"):\n",
    "        print(\"you did not meet the shortlisting criteria\")  \n",
    "    \n",
    "fname=input(\"entr the first name: \")\n",
    "lname=input(\"enter the second name: \")\n",
    "age=int(input(\"entr the age: \"))\n",
    "adress=input(\"enter adress: \")\n",
    "fun(fnm=fname,lnm=lname,a=age,add=adress)"
   ]
  },
  {
   "cell_type": "code",
   "execution_count": 2,
   "metadata": {},
   "outputs": [
    {
     "ename": "ZeroDivisionError",
     "evalue": "division by zero",
     "output_type": "error",
     "traceback": [
      "\u001b[1;31m---------------------------------------------------------------------------\u001b[0m",
      "\u001b[1;31mZeroDivisionError\u001b[0m                         Traceback (most recent call last)",
      "\u001b[1;32m<ipython-input-2-e574edb36883>\u001b[0m in \u001b[0;36m<module>\u001b[1;34m\u001b[0m\n\u001b[1;32m----> 1\u001b[1;33m \u001b[1;36m10\u001b[0m\u001b[1;33m/\u001b[0m\u001b[1;36m0\u001b[0m\u001b[1;33m\u001b[0m\u001b[1;33m\u001b[0m\u001b[0m\n\u001b[0m",
      "\u001b[1;31mZeroDivisionError\u001b[0m: division by zero"
     ]
    }
   ],
   "source": [
    "10/0"
   ]
  },
  {
   "cell_type": "code",
   "execution_count": 9,
   "metadata": {},
   "outputs": [
    {
     "name": "stdout",
     "output_type": "stream",
     "text": [
      "Please enter first number : 10\n",
      "Please enter second number : 2\n",
      "success and ans is  5.0\n",
      "bye\n"
     ]
    }
   ],
   "source": [
    "try: # in this block we write anything that we feel it might fail \n",
    "    num1=int(input(\"Please enter first number : \"))\n",
    "    num2=int(input(\"Please enter second number : \"))\n",
    "    ans=num1/num2\n",
    "except ZeroDivisionError: # control comes when something went wrong or something failed in try\n",
    "    print(\"sorry you cannot divide number by zero\")\n",
    "except ValueError:\n",
    "    print(\"sorry you cannot divide strings\")\n",
    "except: # default except if it is not ZeroDivisionError or ValueError then control comes here\n",
    "    print(\"something went wrong\")\n",
    "else: # control comes when everything went fine in try\n",
    "    print(\"success and ans is \", ans)\n",
    "finally: # this will will surely execute irrespective of try passing or failing\n",
    "    print(\"bye\")"
   ]
  },
  {
   "cell_type": "code",
   "execution_count": 13,
   "metadata": {},
   "outputs": [
    {
     "name": "stdout",
     "output_type": "stream",
     "text": [
      "Please enter first number : 10\n",
      "Please enter second number : 0\n",
      "name of an exception is :-  <class 'ZeroDivisionError'>\n",
      "description of an exception is :-  division by zero\n"
     ]
    }
   ],
   "source": [
    "import sys\n",
    "try: \n",
    "    num1=int(input(\"Please enter first number : \"))\n",
    "    num2=int(input(\"Please enter second number : \"))\n",
    "    ans=num1/num2\n",
    "except:\n",
    "    print(\"name of an exception is :- \", sys.exc_info()[0])\n",
    "    print(\"description of an exception is :- \", sys.exc_info()[1])"
   ]
  },
  {
   "cell_type": "code",
   "execution_count": null,
   "metadata": {},
   "outputs": [],
   "source": []
  }
 ],
 "metadata": {
  "kernelspec": {
   "display_name": "Python 3",
   "language": "python",
   "name": "python3"
  },
  "language_info": {
   "codemirror_mode": {
    "name": "ipython",
    "version": 3
   },
   "file_extension": ".py",
   "mimetype": "text/x-python",
   "name": "python",
   "nbconvert_exporter": "python",
   "pygments_lexer": "ipython3",
   "version": "3.7.6"
  }
 },
 "nbformat": 4,
 "nbformat_minor": 4
}
