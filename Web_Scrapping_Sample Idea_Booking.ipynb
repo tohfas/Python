{
 "cells": [
  {
   "cell_type": "code",
   "execution_count": 1,
   "metadata": {},
   "outputs": [
    {
     "name": "stdout",
     "output_type": "stream",
     "text": [
      "<div class=\"hotellist_wrap tracked shorten_property_block\" data-block-id=\"hotel_list\" id=\"search_results_table\">\n",
      "<div data-component=\"arp-properties-list\">\n",
      "<div data-capla-component=\"b-search-web-searchresults/PropertiesListDesktop\" data-capla-namespace=\"b-search-web-searchresultsEQJNKGWH\"><div></div></div>\n",
      "</div>\n",
      "<svg aria-hidden=\"true\" class=\"bk-icon -streamline-geo_pin\" focusable=\"false\" height=\"24\" role=\"presentation\" style=\"display:none;\" viewbox=\"0 0 24 24\" width=\"24\"><path d=\"M15 8.25a3 3 0 1 1-6 0 3 3 0 0 1 6 0zm1.5 0a4.5 4.5 0 1 0-9 0 4.5 4.5 0 0 0 9 0zM12 1.5a6.75 6.75 0 0 1 6.75 6.75c0 2.537-3.537 9.406-6.75 14.25-3.214-4.844-6.75-11.713-6.75-14.25A6.75 6.75 0 0 1 12 1.5zM12 0a8.25 8.25 0 0 0-8.25 8.25c0 2.965 3.594 9.945 7 15.08a1.5 1.5 0 0 0 2.5 0c3.406-5.135 7-12.115 7-15.08A8.25 8.25 0 0 0 12 0z\"></path></svg>\n",
      "<svg aria-hidden=\"true\" class=\"bk-icon -iconset-square_rating\" focusable=\"false\" height=\"128\" role=\"presentation\" style=\"display:none;\" viewbox=\"0 0 128 128\" width=\"128\"><path d=\"M104 8H24A16 16 0 0 0 8 24v96h96a16 16 0 0 0 16-16V24a16 16 0 0 0-16-16zM64 88a24 24 0 1 1 24-24 24 24 0 0 1-24 24z\"></path></svg>\n",
      "<svg aria-hidden=\"true\" class=\"bk-icon -sprite-ratings_stars_1\" focusable=\"false\" height=\"12\" role=\"presentation\" style=\"display:none;\" viewbox=\"0 0 13 12\" width=\"13\"><path d=\"m13 4.6c0-.1-.1-.2-.2-.2l-4.5-.3-1.5-4c-.1-.1-.5-.1-.5 0l-1.5 4-4.6.3c-.1 0-.2.1-.2.2s0 .2.1.3l3.5 2.5-1.2 4.3c0 .1 0 .2.1.3h.3l3.7-2.6 3.7 2.6h.3c.1-.1.1-.2.1-.3l-1.2-4.4 3.5-2.5c.1 0 .1-.1.1-.2z\" fill=\"#feba02\"></path></svg>\n",
      "<svg aria-hidden=\"true\" class=\"bk-icon -sprite-ratings_stars_2\" focusable=\"false\" height=\"12\" role=\"presentation\" style=\"display:none;\" viewbox=\"0 0 26 12\" width=\"26\"><path d=\"m13 4.6c0-.1-.1-.2-.2-.2l-4.5-.3-1.5-4c-.1-.1-.5-.1-.5 0l-1.5 4-4.6.3c-.1 0-.2.1-.2.2s0 .2.1.3l3.5 2.5-1.2 4.3c0 .1 0 .2.1.3h.3l3.7-2.6 3.7 2.6h.3c.1-.1.1-.2.1-.3l-1.2-4.4 3.5-2.5c.1 0 .1-.1.1-.2zm13 0c0-.1-.1-.2-.2-.2l-4.5-.3-1.5-4c-.1-.2-.4-.2-.5 0l-1.5 4-4.5.3c-.1 0-.2.1-.2.2s0 .2.1.3l3.5 2.5-1.2 4.3c0 .1 0 .2.1.3s.2.1.3 0l3.7-2.6 3.7 2.6h.3c.1-.1.1-.2.1-.3l-1.2-4.3 3.5-2.5z\" fill=\"#feba02\"></path></svg>\n",
      "<svg aria-hidden=\"true\" class=\"bk-icon -sprite-ratings_stars_3\" focusable=\"false\" height=\"12\" role=\"presentation\" style=\"display:none;\" viewbox=\"0 0 39 12\" width=\"39\"><path d=\"m13 4.6c0-.1-.1-.2-.2-.2l-4.5-.3-1.5-4c-.1-.1-.5-.1-.5 0l-1.5 4-4.6.3c-.1 0-.2.1-.2.2s0 .2.1.3l3.5 2.5-1.2 4.3c0 .1 0 .2.1.3h.3l3.7-2.6 3.7 2.6h.3c.1-.1.1-.2.1-.3l-1.2-4.4 3.5-2.5c.1 0 .1-.1.1-.2zm13 0c0-.1-.1-.2-.2-.2l-4.5-.3-1.5-4c-.1-.2-.4-.2-.5 0l-1.5 4-4.5.3c-.1 0-.2.1-.2.2s0 .2.1.3l3.5 2.5-1.2 4.3c0 .1 0 .2.1.3s.2.1.3 0l3.7-2.6 3.7 2.6h.3c.1-.1.1-.2.1-.3l-1.2-4.3 3.5-2.5zm13 0c0-.1-.1-.2-.2-.2l-4.5-.3-1.5-4c-.1-.2-.4-.2-.5 0l-1.5 4-4.5.3c-.1 0-.2.1-.2.2s0 .2.1.3l3.5 2.5-1.2 4.3c0 .1 0 .2.1.3s.2.1.3 0l3.7-2.6 3.7 2.6h.3c.1-.1.1-.2.1-.3l-1.2-4.3 3.5-2.5z\" fill=\"#feba02\"></path></svg>\n",
      "<svg aria-hidden=\"true\" class=\"bk-icon -sprite-ratings_stars_4\" focusable=\"false\" height=\"12\" role=\"presentation\" style=\"display:none;\" viewbox=\"0 0 52 12\" width=\"52\"><path d=\"m13 4.6c0-.1-.1-.2-.2-.2l-4.5-.3-1.5-4c-.1-.1-.5-.1-.5 0l-1.5 4-4.6.3c-.1 0-.2.1-.2.2s0 .2.1.3l3.5 2.5-1.2 4.3c0 .1 0 .2.1.3h.3l3.7-2.6 3.7 2.6h.3c.1-.1.1-.2.1-.3l-1.2-4.4 3.5-2.5c.1 0 .1-.1.1-.2zm13 0c0-.1-.1-.2-.2-.2l-4.5-.3-1.5-4c-.1-.2-.4-.2-.5 0l-1.5 4-4.5.3c-.1 0-.2.1-.2.2s0 .2.1.3l3.5 2.5-1.2 4.3c0 .1 0 .2.1.3s.2.1.3 0l3.7-2.6 3.7 2.6h.3c.1-.1.1-.2.1-.3l-1.2-4.3 3.5-2.5zm13 0c0-.1-.1-.2-.2-.2l-4.5-.3-1.5-4c-.1-.2-.4-.2-.5 0l-1.5 4-4.5.3c-.1 0-.2.1-.2.2s0 .2.1.3l3.5 2.5-1.2 4.3c0 .1 0 .2.1.3s.2.1.3 0l3.7-2.6 3.7 2.6h.3c.1-.1.1-.2.1-.3l-1.2-4.3 3.5-2.5zm13 0c0-.1-.1-.2-.2-.2l-4.5-.3-1.5-4c-.1-.2-.4-.2-.5 0l-1.5 4-4.5.3c-.1 0-.2.1-.2.2s0 .2.1.3l3.5 2.5-1.2 4.3c0 .1 0 .2.1.3s.2.1.3 0l3.7-2.6 3.7 2.6h.3c.1-.1.1-.2.1-.3l-1.2-4.3 3.5-2.5z\" fill=\"#feba02\"></path></svg>\n",
      "<svg aria-hidden=\"true\" class=\"bk-icon -sprite-ratings_stars_5\" focusable=\"false\" height=\"12\" role=\"presentation\" style=\"display:none;\" viewbox=\"0 0 65 12\" width=\"65\"><path d=\"m13 4.6c0-.1-.1-.2-.2-.2l-4.5-.3-1.5-4c-.1-.1-.5-.1-.5 0l-1.5 4-4.6.3c-.1 0-.2.1-.2.2s0 .2.1.3l3.5 2.5-1.2 4.3c0 .1 0 .2.1.3h.3l3.7-2.6 3.7 2.6h.3c.1-.1.1-.2.1-.3l-1.2-4.4 3.5-2.5c.1 0 .1-.1.1-.2zm13 0c0-.1-.1-.2-.2-.2l-4.5-.3-1.5-4c-.1-.2-.4-.2-.5 0l-1.5 4-4.5.3c-.1 0-.2.1-.2.2s0 .2.1.3l3.5 2.5-1.2 4.3c0 .1 0 .2.1.3s.2.1.3 0l3.7-2.6 3.7 2.6h.3c.1-.1.1-.2.1-.3l-1.2-4.3 3.5-2.5zm13 0c0-.1-.1-.2-.2-.2l-4.5-.3-1.5-4c-.1-.2-.4-.2-.5 0l-1.5 4-4.5.3c-.1 0-.2.1-.2.2s0 .2.1.3l3.5 2.5-1.2 4.3c0 .1 0 .2.1.3s.2.1.3 0l3.7-2.6 3.7 2.6h.3c.1-.1.1-.2.1-.3l-1.2-4.3 3.5-2.5zm13 0c0-.1-.1-.2-.2-.2l-4.5-.3-1.5-4c-.1-.2-.4-.2-.5 0l-1.5 4-4.5.3c-.1 0-.2.1-.2.2s0 .2.1.3l3.5 2.5-1.2 4.3c0 .1 0 .2.1.3s.2.1.3 0l3.7-2.6 3.7 2.6h.3c.1-.1.1-.2.1-.3l-1.2-4.3 3.5-2.5zm13 0c0-.1-.1-.2-.2-.2l-4.5-.3-1.5-4c-.1-.2-.4-.2-.5 0l-1.5 4-4.5.3c-.1 0-.2.1-.2.2s0 .2.1.3l3.5 2.5-1.2 4.3c0 .1 0 .2.1.3s.2.1.3 0l3.7-2.6 3.7 2.6h.3c.1-.1.1-.2.1-.3l-1.2-4.3 3.5-2.5z\" fill=\"#feba02\"></path></svg>\n",
      "<svg aria-hidden=\"true\" class=\"bk-icon -sprite-ratings_circles_1\" focusable=\"false\" height=\"10\" role=\"presentation\" style=\"display:none;\" viewbox=\"0 0 10 10\" width=\"10\"><circle cx=\"5\" cy=\"5\" fill=\"#FEBA02\" r=\"5\"></circle></svg>\n",
      "<svg aria-hidden=\"true\" class=\"bk-icon -sprite-ratings_circles_2\" focusable=\"false\" height=\"10\" role=\"presentation\" style=\"display:none;\" viewbox=\"0 0 22 10\" width=\"22\"><g fill=\"#feba02\"><circle cx=\"5\" cy=\"5\" r=\"5\"></circle><circle cx=\"17\" cy=\"5\" r=\"5\"></circle></g></svg>\n",
      "<svg aria-hidden=\"true\" class=\"bk-icon -sprite-ratings_circles_3\" focusable=\"false\" height=\"10\" role=\"presentation\" style=\"display:none;\" viewbox=\"0 0 34 10\" width=\"34\"><g fill=\"#feba02\"><circle cx=\"5\" cy=\"5\" r=\"5\"></circle><circle cx=\"17\" cy=\"5\" r=\"5\"></circle><circle cx=\"29\" cy=\"5\" r=\"5\"></circle></g></svg>\n",
      "<svg aria-hidden=\"true\" class=\"bk-icon -sprite-ratings_circles_4\" focusable=\"false\" height=\"10\" role=\"presentation\" style=\"display:none;\" viewbox=\"0 0 46 10\" width=\"46\"><g fill=\"#feba02\"><circle cx=\"5\" cy=\"5\" r=\"5\"></circle><circle cx=\"17\" cy=\"5\" r=\"5\"></circle><circle cx=\"29\" cy=\"5\" r=\"5\"></circle><circle cx=\"41\" cy=\"5\" r=\"5\"></circle></g></svg>\n",
      "<svg aria-hidden=\"true\" class=\"bk-icon -sprite-ratings_circles_5\" focusable=\"false\" height=\"10\" role=\"presentation\" style=\"display:none;\" viewbox=\"0 0 58 10\" width=\"58\"><g fill=\"#feba02\"><circle cx=\"5\" cy=\"5\" r=\"5\"></circle><circle cx=\"17\" cy=\"5\" r=\"5\"></circle><circle cx=\"29\" cy=\"5\" r=\"5\"></circle><circle cx=\"41\" cy=\"5\" r=\"5\"></circle><circle cx=\"53\" cy=\"5\" r=\"5\"></circle></g></svg>\n",
      "<div id=\"fuzzy-filters-container\"></div>\n",
      "<script id=\"acid-carousel-template-fuzzy-filters\" nonce=\"PvJNIgZgf2xqDVo\" type=\"text/template\">\n",
      "<div\n",
      "data-component=\"property-carousel\"\n",
      "data-type=\"fuzzy-filters\"\n",
      ">\n",
      "<svg class=\"bk-icon -iconset-arrow_right_bold\" height=\"128\" style=\"display:none;\" width=\"128\" viewBox=\"0 0 128 128\" role=\"presentation\" aria-hidden=\"true\" focusable=\"false\"><path d=\"M66.3 26.3a8 8 0 0 0 0 11.3L84.7 56H24a8 8 0 0 0 0 16h60.7L66.3 90.3a8 8 0 0 0 11.4 11.4L115.3 64 77.7 26.3a8 8 0 0 0-11.4 0z\"/></svg>\n",
      "<svg class=\"bk-icon -iconset-arrow_right\" height=\"128\" style=\"display:none;\" width=\"128\" viewBox=\"0 0 128 128\" role=\"presentation\" aria-hidden=\"true\" focusable=\"false\"><path d=\"M20 68h76.7L67.5 97.2a4 4 0 0 0 5.7 5.6L112 64 73.2 25.2a4 4 0 0 0-5.7 5.6L96.7 60H20a4 4 0 1 0 0 8z\"/></svg>\n",
      "<svg class=\"bk-icon -iconset-close\" height=\"128\" style=\"display:none;\" width=\"128\" viewBox=\"0 0 128 128\" role=\"presentation\" aria-hidden=\"true\" focusable=\"false\"><path d=\"M69.7 64l33.1-33.2a4 4 0 0 0-5.6-5.6L64 58.3 30.8 25.2a4 4 0 1 0-5.6 5.6L58.3 64 25.2 97.2a4 4 0 1 0 5.6 5.6L64 69.7l33.2 33.1a4 4 0 0 0 5.6-5.6z\"/></svg>\n",
      "<div\n",
      "data-component=\"media-card-carousel \"\n",
      "class=\"c-property-carousel c-media-card-carousel c-media-card-carousel--www c-media-card-carousel--shadow c-media-card-carousel--medium\"\n",
      "data-action=\"/partial_matches\"\n",
      "data-before-title-tmpl=\"property_carousel_before_title_tmpl\"\n",
      "data-subtitle-tmpl=\"property_carousel_subtitle_tmpl\"\n",
      "data-content-tmpl=\"property_carousel_content_tmpl\"\n",
      "data-footer-tmpl=\"property_carousel_footer_tmpl\"\n",
      "data-size=\"medium\"\n",
      "data-version=\"\"\n",
      "data-type=\"fuzzy-filters\"\n",
      "data-open-in-new-tab\n",
      ">\n",
      "<div class=\"bui-banner\" data-bui-component=\"Banner\">\n",
      "<div class=\"bui-banner__content\">\n",
      "<h1 class=\"bui-banner__title c-media-card-carousel__title \">\n",
      "<span class=\"c-media-card-carousel__title-text\">\n",
      "These properties are good choices, but do not match all of your filters\n",
      "</span>\n",
      "<a\n",
      "href=\"\"\n",
      "class=\"c-media-card-carousel__show-more-button bui-link\"\n",
      "data-show-more-link\n",
      "data-carousel-show-more-header\n",
      "style=\"display: none;\"\n",
      " data-sr-ajax\n",
      ">\n",
      "Show all properties\n",
      "</a>\n",
      "</h1>\n",
      "<p class=\"bui-banner__text js-media-carousel--subtitle\">\n",
      "</p>\n",
      "<div data-carousel-container>\n",
      "<div role=\"region\" class=\"bui-carousel bui-carousel--medium bui-u-bleed@small\">\n",
      "<ul class=\"bui-carousel__inner\" data-bui-ref=\"carousel-container\">\n",
      "<li class=\"bui-carousel__item c-async-carousel__item--loading\" data-bui-ref=\"carousel-item\">\n",
      "<div class=\"bui-card bui-card--media bui-card--transparent\">\n",
      "<div class=\"bui-card__image-container c-async-carousel__photo\"></div>\n",
      "<div class=\"bui-card__content\">\n",
      "<h1 class=\"bui-card__title\"><span class=\"c-async-carousel__skeleton\"></span></h1>\n",
      "<h2 class=\"bui-card__subtitle\"><span class=\"c-async-carousel__skeleton c-async-carousel__skeleton--secondary\"></span></h2>\n",
      "</div>\n",
      "</div>\n",
      "</li>\n",
      "<li class=\"bui-carousel__item c-async-carousel__item--loading\" data-bui-ref=\"carousel-item\">\n",
      "<div class=\"bui-card bui-card--media bui-card--transparent\">\n",
      "<div class=\"bui-card__image-container c-async-carousel__photo\"></div>\n",
      "<div class=\"bui-card__content\">\n",
      "<h1 class=\"bui-card__title\"><span class=\"c-async-carousel__skeleton\"></span></h1>\n",
      "<h2 class=\"bui-card__subtitle\"><span class=\"c-async-carousel__skeleton c-async-carousel__skeleton--secondary\"></span></h2>\n",
      "</div>\n",
      "</div>\n",
      "</li>\n",
      "<li class=\"bui-carousel__item c-async-carousel__item--loading\" data-bui-ref=\"carousel-item\">\n",
      "<div class=\"bui-card bui-card--media bui-card--transparent\">\n",
      "<div class=\"bui-card__image-container c-async-carousel__photo\"></div>\n",
      "<div class=\"bui-card__content\">\n",
      "<h1 class=\"bui-card__title\"><span class=\"c-async-carousel__skeleton\"></span></h1>\n",
      "<h2 class=\"bui-card__subtitle\"><span class=\"c-async-carousel__skeleton c-async-carousel__skeleton--secondary\"></span></h2>\n",
      "</div>\n",
      "</div>\n",
      "</li>\n",
      "<li class=\"bui-carousel__item c-async-carousel__item--loading\" data-bui-ref=\"carousel-item\">\n",
      "<div class=\"bui-card bui-card--media bui-card--transparent\">\n",
      "<div class=\"bui-card__image-container c-async-carousel__photo\"></div>\n",
      "<div class=\"bui-card__content\">\n",
      "<h1 class=\"bui-card__title\"><span class=\"c-async-carousel__skeleton\"></span></h1>\n",
      "<h2 class=\"bui-card__subtitle\"><span class=\"c-async-carousel__skeleton c-async-carousel__skeleton--secondary\"></span></h2>\n",
      "</div>\n",
      "</div>\n",
      "</li>\n",
      "</ul>\n",
      "</div>\n",
      "</div>\n",
      "<a\n",
      "href=\"\"\n",
      "class=\"c-media-card-carousel__show-more-button bui-link\"\n",
      "data-carousel-show-more-footer\n",
      "style=\"display: none;\"\n",
      " data-sr-ajax\n",
      ">\n",
      "Show all properties\n",
      "</a>\n",
      "</div>\n",
      "</div>\n",
      "</div>\n",
      "</div>\n",
      "</script>\n",
      "</div>\n"
     ]
    }
   ],
   "source": [
    "from bs4 import BeautifulSoup\n",
    "import requests\n",
    "headers = {'User-Agent':'Mozilla/5.0 (Macintosh; Intel Mac OS X 10_11_2) AppleWebKit/601.3.9 (KHTML, like Gecko) Version/9.0.2 Safari/601.3.9'}\n",
    "url = 'https://www.booking.com/searchresults.html?label=gen173nr-1FCAEoggI46AdIM1gEaGyIAQGYATG4AQfIAQzYAQHoAQH4AQKIAgGoAgO4AvTIm_IFwAIB&sid=eae1a774e77c394c5e69703d37e033a3&sb=1&src=searchresults&src_elem=sb&error_url=https://www.booking.com/searchresults.html?label=gen173nr-1FCAEoggI46AdIM1gEaGyIAQGYATG4AQfIAQzYAQHoAQH4AQKIAgGoAgO4AvTIm_IFwAIB;sid=eae1a774e77c394c5e69703d37e033a3;tmpl=searchresults;city=-2109472;class_interval=1;dest_id=-2109472;dest_type=city;dr_ps=IDR;dtdisc=0;from_idr=1;ilp=1;inac=0;index_postcard=0;label_click=undef;offset=0;postcard=0;room1=A%2CA;sb_price_type=total;shw_aparth=1;slp_r_match=0;srpvid=7df1609ef03a0103;ss_all=0;ssb=empty;sshis=0;top_ufis=1&;&sr_autoscroll=1&ss=Rishīkesh&is_ski_area=0&ssne=Rishīkesh&ssne_untouched=Rishīkesh&city=-2109472&checkin_year=2020&checkin_month=3&checkin_monthday=4&checkout_year=2020&checkout_month=3&checkout_monthday=5&group_adults=2&group_children=0&no_rooms=1&from_sf=1'\n",
    "response=requests.get(url,headers=headers)\n",
    "soup=BeautifulSoup(response.content,'lxml')\n",
    "\n",
    "#hotelnames\n",
    "hotelslist=soup.find('div', class_=\"hotellist_wrap tracked shorten_property_block\")\n",
    "print(hotelslist)\n",
    "\n"
   ]
  },
  {
   "cell_type": "code",
   "execution_count": 2,
   "metadata": {},
   "outputs": [
    {
     "name": "stdout",
     "output_type": "stream",
     "text": [
      "[]\n"
     ]
    }
   ],
   "source": [
    "hotels=hotelslist.find_all('div',class_=\"fde444d7ef _c445487e2\")\n",
    "print(hotels)"
   ]
  },
  {
   "cell_type": "code",
   "execution_count": 3,
   "metadata": {},
   "outputs": [
    {
     "name": "stdout",
     "output_type": "stream",
     "text": [
      "[]\n"
     ]
    }
   ],
   "source": [
    "#Reviews\n",
    "Reviews=hotelslist.find_all('div',class_=\"_9c5f726ff _192b3a196 f1cbb919ef\")\n",
    "print(Reviews)"
   ]
  },
  {
   "cell_type": "code",
   "execution_count": 4,
   "metadata": {},
   "outputs": [
    {
     "name": "stdout",
     "output_type": "stream",
     "text": [
      "[]\n"
     ]
    }
   ],
   "source": [
    "#Ratings\n",
    "Ratings=hotelslist.find_all('div',class_=\"_4abc4c3d5 _1e6021d2f _6e869d6e0\")\n",
    "print(Ratings)"
   ]
  },
  {
   "cell_type": "code",
   "execution_count": 5,
   "metadata": {},
   "outputs": [
    {
     "name": "stdout",
     "output_type": "stream",
     "text": [
      "[]\n"
     ]
    }
   ],
   "source": [
    "#Price\n",
    "Price=hotelslist.find_all('div',class_=\"fde444d7ef _e885fdc12\")\n",
    "print(Price)"
   ]
  },
  {
   "cell_type": "code",
   "execution_count": null,
   "metadata": {},
   "outputs": [],
   "source": []
  }
 ],
 "metadata": {
  "kernelspec": {
   "display_name": "Python 3",
   "language": "python",
   "name": "python3"
  },
  "language_info": {
   "codemirror_mode": {
    "name": "ipython",
    "version": 3
   },
   "file_extension": ".py",
   "mimetype": "text/x-python",
   "name": "python",
   "nbconvert_exporter": "python",
   "pygments_lexer": "ipython3",
   "version": "3.8.3"
  }
 },
 "nbformat": 4,
 "nbformat_minor": 4
}
